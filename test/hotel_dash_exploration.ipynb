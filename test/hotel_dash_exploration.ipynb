{
 "cells": [
  {
   "cell_type": "code",
   "execution_count": 181,
   "metadata": {},
   "outputs": [],
   "source": [
    "import pandas as pd\n",
    "df = pd.read_csv(\"hotel_reviews_sample.csv\")"
   ]
  },
  {
   "cell_type": "code",
   "execution_count": 182,
   "metadata": {},
   "outputs": [
    {
     "data": {
      "text/html": [
       "<div>\n",
       "<style scoped>\n",
       "    .dataframe tbody tr th:only-of-type {\n",
       "        vertical-align: middle;\n",
       "    }\n",
       "\n",
       "    .dataframe tbody tr th {\n",
       "        vertical-align: top;\n",
       "    }\n",
       "\n",
       "    .dataframe thead th {\n",
       "        text-align: right;\n",
       "    }\n",
       "</style>\n",
       "<table border=\"1\" class=\"dataframe\">\n",
       "  <thead>\n",
       "    <tr style=\"text-align: right;\">\n",
       "      <th></th>\n",
       "      <th>address</th>\n",
       "      <th>categories</th>\n",
       "      <th>city</th>\n",
       "      <th>country</th>\n",
       "      <th>latitude</th>\n",
       "      <th>longitude</th>\n",
       "      <th>name</th>\n",
       "      <th>postalCode</th>\n",
       "      <th>province</th>\n",
       "      <th>reviews.date</th>\n",
       "      <th>reviews.dateAdded</th>\n",
       "      <th>reviews.doRecommend</th>\n",
       "      <th>reviews.id</th>\n",
       "      <th>reviews.rating</th>\n",
       "      <th>reviews.text</th>\n",
       "      <th>reviews.title</th>\n",
       "      <th>reviews.userCity</th>\n",
       "      <th>reviews.username</th>\n",
       "      <th>reviews.userProvince</th>\n",
       "    </tr>\n",
       "  </thead>\n",
       "  <tbody>\n",
       "    <tr>\n",
       "      <th>0</th>\n",
       "      <td>Riviera San Nicol 11/a</td>\n",
       "      <td>Hotels</td>\n",
       "      <td>Mableton</td>\n",
       "      <td>US</td>\n",
       "      <td>45.421611</td>\n",
       "      <td>12.376187</td>\n",
       "      <td>Hotel Russo Palace</td>\n",
       "      <td>30126</td>\n",
       "      <td>GA</td>\n",
       "      <td>2013-09-22T00:00:00Z</td>\n",
       "      <td>2016-10-24T00:00:25Z</td>\n",
       "      <td>NaN</td>\n",
       "      <td>NaN</td>\n",
       "      <td>4.0</td>\n",
       "      <td>Pleasant 10 min walk along the sea front to th...</td>\n",
       "      <td>Good location away from the crouds</td>\n",
       "      <td>NaN</td>\n",
       "      <td>Russ (kent)</td>\n",
       "      <td>NaN</td>\n",
       "    </tr>\n",
       "    <tr>\n",
       "      <th>1</th>\n",
       "      <td>Riviera San Nicol 11/a</td>\n",
       "      <td>Hotels</td>\n",
       "      <td>Mableton</td>\n",
       "      <td>US</td>\n",
       "      <td>45.421611</td>\n",
       "      <td>12.376187</td>\n",
       "      <td>Hotel Russo Palace</td>\n",
       "      <td>30126</td>\n",
       "      <td>GA</td>\n",
       "      <td>2015-04-03T00:00:00Z</td>\n",
       "      <td>2016-10-24T00:00:25Z</td>\n",
       "      <td>NaN</td>\n",
       "      <td>NaN</td>\n",
       "      <td>5.0</td>\n",
       "      <td>Really lovely hotel. Stayed on the very top fl...</td>\n",
       "      <td>Great hotel with Jacuzzi bath!</td>\n",
       "      <td>NaN</td>\n",
       "      <td>A Traveler</td>\n",
       "      <td>NaN</td>\n",
       "    </tr>\n",
       "    <tr>\n",
       "      <th>2</th>\n",
       "      <td>Riviera San Nicol 11/a</td>\n",
       "      <td>Hotels</td>\n",
       "      <td>Mableton</td>\n",
       "      <td>US</td>\n",
       "      <td>45.421611</td>\n",
       "      <td>12.376187</td>\n",
       "      <td>Hotel Russo Palace</td>\n",
       "      <td>30126</td>\n",
       "      <td>GA</td>\n",
       "      <td>2014-05-13T00:00:00Z</td>\n",
       "      <td>2016-10-24T00:00:25Z</td>\n",
       "      <td>NaN</td>\n",
       "      <td>NaN</td>\n",
       "      <td>5.0</td>\n",
       "      <td>Ett mycket bra hotell. Det som drog ner betyge...</td>\n",
       "      <td>Lugnt l��ge</td>\n",
       "      <td>NaN</td>\n",
       "      <td>Maud</td>\n",
       "      <td>NaN</td>\n",
       "    </tr>\n",
       "    <tr>\n",
       "      <th>3</th>\n",
       "      <td>Riviera San Nicol 11/a</td>\n",
       "      <td>Hotels</td>\n",
       "      <td>Mableton</td>\n",
       "      <td>US</td>\n",
       "      <td>45.421611</td>\n",
       "      <td>12.376187</td>\n",
       "      <td>Hotel Russo Palace</td>\n",
       "      <td>30126</td>\n",
       "      <td>GA</td>\n",
       "      <td>2013-10-27T00:00:00Z</td>\n",
       "      <td>2016-10-24T00:00:25Z</td>\n",
       "      <td>NaN</td>\n",
       "      <td>NaN</td>\n",
       "      <td>5.0</td>\n",
       "      <td>We stayed here for four nights in October. The...</td>\n",
       "      <td>Good location on the Lido.</td>\n",
       "      <td>NaN</td>\n",
       "      <td>Julie</td>\n",
       "      <td>NaN</td>\n",
       "    </tr>\n",
       "    <tr>\n",
       "      <th>4</th>\n",
       "      <td>Riviera San Nicol 11/a</td>\n",
       "      <td>Hotels</td>\n",
       "      <td>Mableton</td>\n",
       "      <td>US</td>\n",
       "      <td>45.421611</td>\n",
       "      <td>12.376187</td>\n",
       "      <td>Hotel Russo Palace</td>\n",
       "      <td>30126</td>\n",
       "      <td>GA</td>\n",
       "      <td>2015-03-05T00:00:00Z</td>\n",
       "      <td>2016-10-24T00:00:25Z</td>\n",
       "      <td>NaN</td>\n",
       "      <td>NaN</td>\n",
       "      <td>5.0</td>\n",
       "      <td>We stayed here for four nights in October. The...</td>\n",
       "      <td>������ ���������������</td>\n",
       "      <td>NaN</td>\n",
       "      <td>sungchul</td>\n",
       "      <td>NaN</td>\n",
       "    </tr>\n",
       "    <tr>\n",
       "      <th>...</th>\n",
       "      <td>...</td>\n",
       "      <td>...</td>\n",
       "      <td>...</td>\n",
       "      <td>...</td>\n",
       "      <td>...</td>\n",
       "      <td>...</td>\n",
       "      <td>...</td>\n",
       "      <td>...</td>\n",
       "      <td>...</td>\n",
       "      <td>...</td>\n",
       "      <td>...</td>\n",
       "      <td>...</td>\n",
       "      <td>...</td>\n",
       "      <td>...</td>\n",
       "      <td>...</td>\n",
       "      <td>...</td>\n",
       "      <td>...</td>\n",
       "      <td>...</td>\n",
       "      <td>...</td>\n",
       "    </tr>\n",
       "    <tr>\n",
       "      <th>35907</th>\n",
       "      <td>1088 Powdermill Rd</td>\n",
       "      <td>Cabins,Resorts &amp; Vacation Cottages,Wedding Cha...</td>\n",
       "      <td>Gatlinburg</td>\n",
       "      <td>US</td>\n",
       "      <td>35.754868</td>\n",
       "      <td>-83.457295</td>\n",
       "      <td>Elk Springs Resort</td>\n",
       "      <td>37738</td>\n",
       "      <td>TN</td>\n",
       "      <td>2012-03-20T00:00:00Z</td>\n",
       "      <td>2016-06-23T16:50:58Z</td>\n",
       "      <td>NaN</td>\n",
       "      <td>NaN</td>\n",
       "      <td>5.0</td>\n",
       "      <td>Best of the Best!!!! My family and I stayed in...</td>\n",
       "      <td>Amazing time (both times!!)</td>\n",
       "      <td>Charlotte</td>\n",
       "      <td>Chelsa K.</td>\n",
       "      <td>NC</td>\n",
       "    </tr>\n",
       "    <tr>\n",
       "      <th>35908</th>\n",
       "      <td>1088 Powdermill Rd</td>\n",
       "      <td>Cabins,Resorts &amp; Vacation Cottages,Wedding Cha...</td>\n",
       "      <td>Gatlinburg</td>\n",
       "      <td>US</td>\n",
       "      <td>35.754868</td>\n",
       "      <td>-83.457295</td>\n",
       "      <td>Elk Springs Resort</td>\n",
       "      <td>37738</td>\n",
       "      <td>TN</td>\n",
       "      <td>2012-03-12T00:00:00Z</td>\n",
       "      <td>2016-06-23T16:50:58Z</td>\n",
       "      <td>NaN</td>\n",
       "      <td>NaN</td>\n",
       "      <td>5.0</td>\n",
       "      <td>Amazing Vacation in Beautiful Cabin We stayed ...</td>\n",
       "      <td>Amazing time (both times!!)</td>\n",
       "      <td>Charlotte</td>\n",
       "      <td>Heather D.</td>\n",
       "      <td>NC</td>\n",
       "    </tr>\n",
       "    <tr>\n",
       "      <th>35909</th>\n",
       "      <td>1088 Powdermill Rd</td>\n",
       "      <td>Cabins,Resorts &amp; Vacation Cottages,Wedding Cha...</td>\n",
       "      <td>Gatlinburg</td>\n",
       "      <td>US</td>\n",
       "      <td>35.754868</td>\n",
       "      <td>-83.457295</td>\n",
       "      <td>Elk Springs Resort</td>\n",
       "      <td>37738</td>\n",
       "      <td>TN</td>\n",
       "      <td>2015-11-03T00:00:00Z</td>\n",
       "      <td>2016-06-23T16:50:58Z</td>\n",
       "      <td>NaN</td>\n",
       "      <td>NaN</td>\n",
       "      <td>5.0</td>\n",
       "      <td>My husband and I stayed at Tree Tops which is ...</td>\n",
       "      <td>Amazing time (both times!!)</td>\n",
       "      <td>Charlotte</td>\n",
       "      <td>Carol W.</td>\n",
       "      <td>NC</td>\n",
       "    </tr>\n",
       "    <tr>\n",
       "      <th>35910</th>\n",
       "      <td>3747 29th St S E</td>\n",
       "      <td>Hotels-Apartment,Corporate Lodging,Hotels,Lodging</td>\n",
       "      <td>Grand Rapids</td>\n",
       "      <td>US</td>\n",
       "      <td>42.909480</td>\n",
       "      <td>-85.573590</td>\n",
       "      <td>Extended Stay America Grand Rapids - Kentwood</td>\n",
       "      <td>49512</td>\n",
       "      <td>MI</td>\n",
       "      <td>NaN</td>\n",
       "      <td>2015-12-01T19:40:54Z</td>\n",
       "      <td>NaN</td>\n",
       "      <td>NaN</td>\n",
       "      <td>0.0</td>\n",
       "      <td>to share your opinion of this businesswith YP ...</td>\n",
       "      <td>NaN</td>\n",
       "      <td>NaN</td>\n",
       "      <td>write a review</td>\n",
       "      <td>NaN</td>\n",
       "    </tr>\n",
       "    <tr>\n",
       "      <th>35911</th>\n",
       "      <td>3747 29th St S E</td>\n",
       "      <td>Hotels-Apartment,Corporate Lodging,Hotels,Lodging</td>\n",
       "      <td>Grand Rapids</td>\n",
       "      <td>US</td>\n",
       "      <td>42.909480</td>\n",
       "      <td>-85.573590</td>\n",
       "      <td>Extended Stay America Grand Rapids - Kentwood</td>\n",
       "      <td>49512</td>\n",
       "      <td>MI</td>\n",
       "      <td>NaN</td>\n",
       "      <td>2015-12-01T19:40:54Z</td>\n",
       "      <td>NaN</td>\n",
       "      <td>NaN</td>\n",
       "      <td>0.0</td>\n",
       "      <td>xxxxxxxxxxxxxxxxxxxxxxxxxxxxxxxxxxxxxxxxxx</td>\n",
       "      <td>NaN</td>\n",
       "      <td>NaN</td>\n",
       "      <td>xxxxxxxxxxxxxx</td>\n",
       "      <td>NaN</td>\n",
       "    </tr>\n",
       "  </tbody>\n",
       "</table>\n",
       "<p>35912 rows × 19 columns</p>\n",
       "</div>"
      ],
      "text/plain": [
       "                      address  \\\n",
       "0      Riviera San Nicol 11/a   \n",
       "1      Riviera San Nicol 11/a   \n",
       "2      Riviera San Nicol 11/a   \n",
       "3      Riviera San Nicol 11/a   \n",
       "4      Riviera San Nicol 11/a   \n",
       "...                       ...   \n",
       "35907      1088 Powdermill Rd   \n",
       "35908      1088 Powdermill Rd   \n",
       "35909      1088 Powdermill Rd   \n",
       "35910        3747 29th St S E   \n",
       "35911        3747 29th St S E   \n",
       "\n",
       "                                              categories          city  \\\n",
       "0                                                 Hotels      Mableton   \n",
       "1                                                 Hotels      Mableton   \n",
       "2                                                 Hotels      Mableton   \n",
       "3                                                 Hotels      Mableton   \n",
       "4                                                 Hotels      Mableton   \n",
       "...                                                  ...           ...   \n",
       "35907  Cabins,Resorts & Vacation Cottages,Wedding Cha...    Gatlinburg   \n",
       "35908  Cabins,Resorts & Vacation Cottages,Wedding Cha...    Gatlinburg   \n",
       "35909  Cabins,Resorts & Vacation Cottages,Wedding Cha...    Gatlinburg   \n",
       "35910  Hotels-Apartment,Corporate Lodging,Hotels,Lodging  Grand Rapids   \n",
       "35911  Hotels-Apartment,Corporate Lodging,Hotels,Lodging  Grand Rapids   \n",
       "\n",
       "      country   latitude  longitude  \\\n",
       "0          US  45.421611  12.376187   \n",
       "1          US  45.421611  12.376187   \n",
       "2          US  45.421611  12.376187   \n",
       "3          US  45.421611  12.376187   \n",
       "4          US  45.421611  12.376187   \n",
       "...       ...        ...        ...   \n",
       "35907      US  35.754868 -83.457295   \n",
       "35908      US  35.754868 -83.457295   \n",
       "35909      US  35.754868 -83.457295   \n",
       "35910      US  42.909480 -85.573590   \n",
       "35911      US  42.909480 -85.573590   \n",
       "\n",
       "                                                name postalCode province  \\\n",
       "0                                 Hotel Russo Palace      30126       GA   \n",
       "1                                 Hotel Russo Palace      30126       GA   \n",
       "2                                 Hotel Russo Palace      30126       GA   \n",
       "3                                 Hotel Russo Palace      30126       GA   \n",
       "4                                 Hotel Russo Palace      30126       GA   \n",
       "...                                              ...        ...      ...   \n",
       "35907                             Elk Springs Resort      37738       TN   \n",
       "35908                             Elk Springs Resort      37738       TN   \n",
       "35909                             Elk Springs Resort      37738       TN   \n",
       "35910  Extended Stay America Grand Rapids - Kentwood      49512       MI   \n",
       "35911  Extended Stay America Grand Rapids - Kentwood      49512       MI   \n",
       "\n",
       "               reviews.date     reviews.dateAdded  reviews.doRecommend  \\\n",
       "0      2013-09-22T00:00:00Z  2016-10-24T00:00:25Z                  NaN   \n",
       "1      2015-04-03T00:00:00Z  2016-10-24T00:00:25Z                  NaN   \n",
       "2      2014-05-13T00:00:00Z  2016-10-24T00:00:25Z                  NaN   \n",
       "3      2013-10-27T00:00:00Z  2016-10-24T00:00:25Z                  NaN   \n",
       "4      2015-03-05T00:00:00Z  2016-10-24T00:00:25Z                  NaN   \n",
       "...                     ...                   ...                  ...   \n",
       "35907  2012-03-20T00:00:00Z  2016-06-23T16:50:58Z                  NaN   \n",
       "35908  2012-03-12T00:00:00Z  2016-06-23T16:50:58Z                  NaN   \n",
       "35909  2015-11-03T00:00:00Z  2016-06-23T16:50:58Z                  NaN   \n",
       "35910                   NaN  2015-12-01T19:40:54Z                  NaN   \n",
       "35911                   NaN  2015-12-01T19:40:54Z                  NaN   \n",
       "\n",
       "       reviews.id  reviews.rating  \\\n",
       "0             NaN             4.0   \n",
       "1             NaN             5.0   \n",
       "2             NaN             5.0   \n",
       "3             NaN             5.0   \n",
       "4             NaN             5.0   \n",
       "...           ...             ...   \n",
       "35907         NaN             5.0   \n",
       "35908         NaN             5.0   \n",
       "35909         NaN             5.0   \n",
       "35910         NaN             0.0   \n",
       "35911         NaN             0.0   \n",
       "\n",
       "                                            reviews.text  \\\n",
       "0      Pleasant 10 min walk along the sea front to th...   \n",
       "1      Really lovely hotel. Stayed on the very top fl...   \n",
       "2      Ett mycket bra hotell. Det som drog ner betyge...   \n",
       "3      We stayed here for four nights in October. The...   \n",
       "4      We stayed here for four nights in October. The...   \n",
       "...                                                  ...   \n",
       "35907  Best of the Best!!!! My family and I stayed in...   \n",
       "35908  Amazing Vacation in Beautiful Cabin We stayed ...   \n",
       "35909  My husband and I stayed at Tree Tops which is ...   \n",
       "35910  to share your opinion of this businesswith YP ...   \n",
       "35911         xxxxxxxxxxxxxxxxxxxxxxxxxxxxxxxxxxxxxxxxxx   \n",
       "\n",
       "                            reviews.title reviews.userCity reviews.username  \\\n",
       "0      Good location away from the crouds              NaN      Russ (kent)   \n",
       "1          Great hotel with Jacuzzi bath!              NaN       A Traveler   \n",
       "2                             Lugnt l��ge              NaN             Maud   \n",
       "3              Good location on the Lido.              NaN            Julie   \n",
       "4                  ������ ���������������              NaN         sungchul   \n",
       "...                                   ...              ...              ...   \n",
       "35907         Amazing time (both times!!)        Charlotte        Chelsa K.   \n",
       "35908         Amazing time (both times!!)        Charlotte       Heather D.   \n",
       "35909         Amazing time (both times!!)        Charlotte         Carol W.   \n",
       "35910                                 NaN              NaN   write a review   \n",
       "35911                                 NaN              NaN   xxxxxxxxxxxxxx   \n",
       "\n",
       "      reviews.userProvince  \n",
       "0                      NaN  \n",
       "1                      NaN  \n",
       "2                      NaN  \n",
       "3                      NaN  \n",
       "4                      NaN  \n",
       "...                    ...  \n",
       "35907                   NC  \n",
       "35908                   NC  \n",
       "35909                   NC  \n",
       "35910                  NaN  \n",
       "35911                  NaN  \n",
       "\n",
       "[35912 rows x 19 columns]"
      ]
     },
     "execution_count": 182,
     "metadata": {},
     "output_type": "execute_result"
    }
   ],
   "source": [
    "df"
   ]
  },
  {
   "cell_type": "code",
   "execution_count": 183,
   "metadata": {},
   "outputs": [],
   "source": [
    "df_reduced = df[['name', 'city', 'reviews.date', 'latitude', 'longitude', 'reviews.rating', 'reviews.text']].copy()"
   ]
  },
  {
   "cell_type": "code",
   "execution_count": 184,
   "metadata": {},
   "outputs": [],
   "source": [
    "df_reduced = df_reduced[df_reduced['reviews.date'] >= '2014-01-01']\n",
    "df_reduced = df_reduced[df_reduced['reviews.date'] < '2016-11-01']"
   ]
  },
  {
   "cell_type": "code",
   "execution_count": 185,
   "metadata": {},
   "outputs": [],
   "source": [
    "review_counts = pd.DataFrame(df_reduced.groupby(['latitude', 'longitude'])['reviews.rating'].count()).reset_index()\n",
    "review_counts = review_counts[review_counts['reviews.rating'] > 100]"
   ]
  },
  {
   "cell_type": "code",
   "execution_count": 186,
   "metadata": {},
   "outputs": [
    {
     "data": {
      "text/html": [
       "<div>\n",
       "<style scoped>\n",
       "    .dataframe tbody tr th:only-of-type {\n",
       "        vertical-align: middle;\n",
       "    }\n",
       "\n",
       "    .dataframe tbody tr th {\n",
       "        vertical-align: top;\n",
       "    }\n",
       "\n",
       "    .dataframe thead th {\n",
       "        text-align: right;\n",
       "    }\n",
       "</style>\n",
       "<table border=\"1\" class=\"dataframe\">\n",
       "  <thead>\n",
       "    <tr style=\"text-align: right;\">\n",
       "      <th></th>\n",
       "      <th>name</th>\n",
       "      <th>city</th>\n",
       "      <th>reviews.date</th>\n",
       "      <th>latitude</th>\n",
       "      <th>longitude</th>\n",
       "      <th>reviews.rating_x</th>\n",
       "      <th>reviews.text</th>\n",
       "      <th>reviews.rating_y</th>\n",
       "    </tr>\n",
       "  </thead>\n",
       "  <tbody>\n",
       "    <tr>\n",
       "      <th>0</th>\n",
       "      <td>Best Western Plus Waterville Grand Hotel</td>\n",
       "      <td>Waterville</td>\n",
       "      <td>2015-06-17T00:00:00Z</td>\n",
       "      <td>44.570590</td>\n",
       "      <td>-69.640120</td>\n",
       "      <td>4.0</td>\n",
       "      <td>I asked for a nonsmoking room and was pleased ...</td>\n",
       "      <td>248</td>\n",
       "    </tr>\n",
       "    <tr>\n",
       "      <th>1</th>\n",
       "      <td>Best Western Plus Waterville Grand Hotel</td>\n",
       "      <td>Waterville</td>\n",
       "      <td>2015-11-23T00:00:00Z</td>\n",
       "      <td>44.570590</td>\n",
       "      <td>-69.640120</td>\n",
       "      <td>5.0</td>\n",
       "      <td>I always stay at this hotel when visiting my m...</td>\n",
       "      <td>248</td>\n",
       "    </tr>\n",
       "    <tr>\n",
       "      <th>2</th>\n",
       "      <td>Best Western Plus Waterville Grand Hotel</td>\n",
       "      <td>Waterville</td>\n",
       "      <td>2015-08-03T00:00:00Z</td>\n",
       "      <td>44.570590</td>\n",
       "      <td>-69.640120</td>\n",
       "      <td>3.0</td>\n",
       "      <td>Adequate but nothing to recommend it.</td>\n",
       "      <td>248</td>\n",
       "    </tr>\n",
       "    <tr>\n",
       "      <th>3</th>\n",
       "      <td>Best Western Plus Waterville Grand Hotel</td>\n",
       "      <td>Waterville</td>\n",
       "      <td>2014-08-13T00:00:00Z</td>\n",
       "      <td>44.570590</td>\n",
       "      <td>-69.640120</td>\n",
       "      <td>4.0</td>\n",
       "      <td>Great service, comfortable hotel. Rug was wet ...</td>\n",
       "      <td>248</td>\n",
       "    </tr>\n",
       "    <tr>\n",
       "      <th>4</th>\n",
       "      <td>Best Western Plus Waterville Grand Hotel</td>\n",
       "      <td>Waterville</td>\n",
       "      <td>2015-07-03T00:00:00Z</td>\n",
       "      <td>44.570590</td>\n",
       "      <td>-69.640120</td>\n",
       "      <td>5.0</td>\n",
       "      <td>excellent place to stay and food was super...g...</td>\n",
       "      <td>248</td>\n",
       "    </tr>\n",
       "    <tr>\n",
       "      <th>...</th>\n",
       "      <td>...</td>\n",
       "      <td>...</td>\n",
       "      <td>...</td>\n",
       "      <td>...</td>\n",
       "      <td>...</td>\n",
       "      <td>...</td>\n",
       "      <td>...</td>\n",
       "      <td>...</td>\n",
       "    </tr>\n",
       "    <tr>\n",
       "      <th>10778</th>\n",
       "      <td>Elk Springs Resort</td>\n",
       "      <td>Gatlinburg</td>\n",
       "      <td>2016-08-01T00:00:00Z</td>\n",
       "      <td>35.754868</td>\n",
       "      <td>-83.457295</td>\n",
       "      <td>1.0</td>\n",
       "      <td>We are extremely disappointed in this company....</td>\n",
       "      <td>142</td>\n",
       "    </tr>\n",
       "    <tr>\n",
       "      <th>10779</th>\n",
       "      <td>Elk Springs Resort</td>\n",
       "      <td>Gatlinburg</td>\n",
       "      <td>2016-07-15T00:00:00Z</td>\n",
       "      <td>35.754868</td>\n",
       "      <td>-83.457295</td>\n",
       "      <td>5.0</td>\n",
       "      <td>Our family of 14 stayed in a 5 bedroom cabin, ...</td>\n",
       "      <td>142</td>\n",
       "    </tr>\n",
       "    <tr>\n",
       "      <th>10780</th>\n",
       "      <td>Elk Springs Resort</td>\n",
       "      <td>Gatlinburg</td>\n",
       "      <td>2016-07-06T00:00:00Z</td>\n",
       "      <td>35.754868</td>\n",
       "      <td>-83.457295</td>\n",
       "      <td>5.0</td>\n",
       "      <td>We truly enjoyed staying at the Elk Springs re...</td>\n",
       "      <td>142</td>\n",
       "    </tr>\n",
       "    <tr>\n",
       "      <th>10781</th>\n",
       "      <td>Elk Springs Resort</td>\n",
       "      <td>Gatlinburg</td>\n",
       "      <td>2016-05-02T00:00:00Z</td>\n",
       "      <td>35.754868</td>\n",
       "      <td>-83.457295</td>\n",
       "      <td>5.0</td>\n",
       "      <td>We were here for a 2nd time the last weekend o...</td>\n",
       "      <td>142</td>\n",
       "    </tr>\n",
       "    <tr>\n",
       "      <th>10782</th>\n",
       "      <td>Elk Springs Resort</td>\n",
       "      <td>Gatlinburg</td>\n",
       "      <td>2015-11-03T00:00:00Z</td>\n",
       "      <td>35.754868</td>\n",
       "      <td>-83.457295</td>\n",
       "      <td>5.0</td>\n",
       "      <td>My husband and I stayed at Tree Tops which is ...</td>\n",
       "      <td>142</td>\n",
       "    </tr>\n",
       "  </tbody>\n",
       "</table>\n",
       "<p>10783 rows × 8 columns</p>\n",
       "</div>"
      ],
      "text/plain": [
       "                                           name        city  \\\n",
       "0      Best Western Plus Waterville Grand Hotel  Waterville   \n",
       "1      Best Western Plus Waterville Grand Hotel  Waterville   \n",
       "2      Best Western Plus Waterville Grand Hotel  Waterville   \n",
       "3      Best Western Plus Waterville Grand Hotel  Waterville   \n",
       "4      Best Western Plus Waterville Grand Hotel  Waterville   \n",
       "...                                         ...         ...   \n",
       "10778                        Elk Springs Resort  Gatlinburg   \n",
       "10779                        Elk Springs Resort  Gatlinburg   \n",
       "10780                        Elk Springs Resort  Gatlinburg   \n",
       "10781                        Elk Springs Resort  Gatlinburg   \n",
       "10782                        Elk Springs Resort  Gatlinburg   \n",
       "\n",
       "               reviews.date   latitude  longitude  reviews.rating_x  \\\n",
       "0      2015-06-17T00:00:00Z  44.570590 -69.640120               4.0   \n",
       "1      2015-11-23T00:00:00Z  44.570590 -69.640120               5.0   \n",
       "2      2015-08-03T00:00:00Z  44.570590 -69.640120               3.0   \n",
       "3      2014-08-13T00:00:00Z  44.570590 -69.640120               4.0   \n",
       "4      2015-07-03T00:00:00Z  44.570590 -69.640120               5.0   \n",
       "...                     ...        ...        ...               ...   \n",
       "10778  2016-08-01T00:00:00Z  35.754868 -83.457295               1.0   \n",
       "10779  2016-07-15T00:00:00Z  35.754868 -83.457295               5.0   \n",
       "10780  2016-07-06T00:00:00Z  35.754868 -83.457295               5.0   \n",
       "10781  2016-05-02T00:00:00Z  35.754868 -83.457295               5.0   \n",
       "10782  2015-11-03T00:00:00Z  35.754868 -83.457295               5.0   \n",
       "\n",
       "                                            reviews.text  reviews.rating_y  \n",
       "0      I asked for a nonsmoking room and was pleased ...               248  \n",
       "1      I always stay at this hotel when visiting my m...               248  \n",
       "2                  Adequate but nothing to recommend it.               248  \n",
       "3      Great service, comfortable hotel. Rug was wet ...               248  \n",
       "4      excellent place to stay and food was super...g...               248  \n",
       "...                                                  ...               ...  \n",
       "10778  We are extremely disappointed in this company....               142  \n",
       "10779  Our family of 14 stayed in a 5 bedroom cabin, ...               142  \n",
       "10780  We truly enjoyed staying at the Elk Springs re...               142  \n",
       "10781  We were here for a 2nd time the last weekend o...               142  \n",
       "10782  My husband and I stayed at Tree Tops which is ...               142  \n",
       "\n",
       "[10783 rows x 8 columns]"
      ]
     },
     "execution_count": 186,
     "metadata": {},
     "output_type": "execute_result"
    }
   ],
   "source": [
    "df_reduced = df_reduced.merge(review_counts, how='inner', left_on=['latitude', 'longitude'], right_on=['latitude', 'longitude'])\n",
    "df_reduced"
   ]
  },
  {
   "cell_type": "code",
   "execution_count": 187,
   "metadata": {},
   "outputs": [],
   "source": [
    "df_reduced = df_reduced.drop(columns=[\"reviews.rating_y\"]).rename(columns={'reviews.rating_x': 'reviews.rating'})"
   ]
  },
  {
   "cell_type": "code",
   "execution_count": 188,
   "metadata": {},
   "outputs": [
    {
     "data": {
      "text/html": [
       "<div>\n",
       "<style scoped>\n",
       "    .dataframe tbody tr th:only-of-type {\n",
       "        vertical-align: middle;\n",
       "    }\n",
       "\n",
       "    .dataframe tbody tr th {\n",
       "        vertical-align: top;\n",
       "    }\n",
       "\n",
       "    .dataframe thead th {\n",
       "        text-align: right;\n",
       "    }\n",
       "</style>\n",
       "<table border=\"1\" class=\"dataframe\">\n",
       "  <thead>\n",
       "    <tr style=\"text-align: right;\">\n",
       "      <th></th>\n",
       "      <th>name</th>\n",
       "      <th>city</th>\n",
       "      <th>reviews.date</th>\n",
       "      <th>latitude</th>\n",
       "      <th>longitude</th>\n",
       "      <th>reviews.rating</th>\n",
       "      <th>reviews.text</th>\n",
       "    </tr>\n",
       "  </thead>\n",
       "  <tbody>\n",
       "    <tr>\n",
       "      <th>0</th>\n",
       "      <td>Best Western Plus Waterville Grand Hotel</td>\n",
       "      <td>Waterville</td>\n",
       "      <td>2015-06-17T00:00:00Z</td>\n",
       "      <td>44.570590</td>\n",
       "      <td>-69.640120</td>\n",
       "      <td>4.0</td>\n",
       "      <td>I asked for a nonsmoking room and was pleased ...</td>\n",
       "    </tr>\n",
       "    <tr>\n",
       "      <th>1</th>\n",
       "      <td>Best Western Plus Waterville Grand Hotel</td>\n",
       "      <td>Waterville</td>\n",
       "      <td>2015-11-23T00:00:00Z</td>\n",
       "      <td>44.570590</td>\n",
       "      <td>-69.640120</td>\n",
       "      <td>5.0</td>\n",
       "      <td>I always stay at this hotel when visiting my m...</td>\n",
       "    </tr>\n",
       "    <tr>\n",
       "      <th>2</th>\n",
       "      <td>Best Western Plus Waterville Grand Hotel</td>\n",
       "      <td>Waterville</td>\n",
       "      <td>2015-08-03T00:00:00Z</td>\n",
       "      <td>44.570590</td>\n",
       "      <td>-69.640120</td>\n",
       "      <td>3.0</td>\n",
       "      <td>Adequate but nothing to recommend it.</td>\n",
       "    </tr>\n",
       "    <tr>\n",
       "      <th>3</th>\n",
       "      <td>Best Western Plus Waterville Grand Hotel</td>\n",
       "      <td>Waterville</td>\n",
       "      <td>2014-08-13T00:00:00Z</td>\n",
       "      <td>44.570590</td>\n",
       "      <td>-69.640120</td>\n",
       "      <td>4.0</td>\n",
       "      <td>Great service, comfortable hotel. Rug was wet ...</td>\n",
       "    </tr>\n",
       "    <tr>\n",
       "      <th>4</th>\n",
       "      <td>Best Western Plus Waterville Grand Hotel</td>\n",
       "      <td>Waterville</td>\n",
       "      <td>2015-07-03T00:00:00Z</td>\n",
       "      <td>44.570590</td>\n",
       "      <td>-69.640120</td>\n",
       "      <td>5.0</td>\n",
       "      <td>excellent place to stay and food was super...g...</td>\n",
       "    </tr>\n",
       "    <tr>\n",
       "      <th>...</th>\n",
       "      <td>...</td>\n",
       "      <td>...</td>\n",
       "      <td>...</td>\n",
       "      <td>...</td>\n",
       "      <td>...</td>\n",
       "      <td>...</td>\n",
       "      <td>...</td>\n",
       "    </tr>\n",
       "    <tr>\n",
       "      <th>10778</th>\n",
       "      <td>Elk Springs Resort</td>\n",
       "      <td>Gatlinburg</td>\n",
       "      <td>2016-08-01T00:00:00Z</td>\n",
       "      <td>35.754868</td>\n",
       "      <td>-83.457295</td>\n",
       "      <td>1.0</td>\n",
       "      <td>We are extremely disappointed in this company....</td>\n",
       "    </tr>\n",
       "    <tr>\n",
       "      <th>10779</th>\n",
       "      <td>Elk Springs Resort</td>\n",
       "      <td>Gatlinburg</td>\n",
       "      <td>2016-07-15T00:00:00Z</td>\n",
       "      <td>35.754868</td>\n",
       "      <td>-83.457295</td>\n",
       "      <td>5.0</td>\n",
       "      <td>Our family of 14 stayed in a 5 bedroom cabin, ...</td>\n",
       "    </tr>\n",
       "    <tr>\n",
       "      <th>10780</th>\n",
       "      <td>Elk Springs Resort</td>\n",
       "      <td>Gatlinburg</td>\n",
       "      <td>2016-07-06T00:00:00Z</td>\n",
       "      <td>35.754868</td>\n",
       "      <td>-83.457295</td>\n",
       "      <td>5.0</td>\n",
       "      <td>We truly enjoyed staying at the Elk Springs re...</td>\n",
       "    </tr>\n",
       "    <tr>\n",
       "      <th>10781</th>\n",
       "      <td>Elk Springs Resort</td>\n",
       "      <td>Gatlinburg</td>\n",
       "      <td>2016-05-02T00:00:00Z</td>\n",
       "      <td>35.754868</td>\n",
       "      <td>-83.457295</td>\n",
       "      <td>5.0</td>\n",
       "      <td>We were here for a 2nd time the last weekend o...</td>\n",
       "    </tr>\n",
       "    <tr>\n",
       "      <th>10782</th>\n",
       "      <td>Elk Springs Resort</td>\n",
       "      <td>Gatlinburg</td>\n",
       "      <td>2015-11-03T00:00:00Z</td>\n",
       "      <td>35.754868</td>\n",
       "      <td>-83.457295</td>\n",
       "      <td>5.0</td>\n",
       "      <td>My husband and I stayed at Tree Tops which is ...</td>\n",
       "    </tr>\n",
       "  </tbody>\n",
       "</table>\n",
       "<p>10783 rows × 7 columns</p>\n",
       "</div>"
      ],
      "text/plain": [
       "                                           name        city  \\\n",
       "0      Best Western Plus Waterville Grand Hotel  Waterville   \n",
       "1      Best Western Plus Waterville Grand Hotel  Waterville   \n",
       "2      Best Western Plus Waterville Grand Hotel  Waterville   \n",
       "3      Best Western Plus Waterville Grand Hotel  Waterville   \n",
       "4      Best Western Plus Waterville Grand Hotel  Waterville   \n",
       "...                                         ...         ...   \n",
       "10778                        Elk Springs Resort  Gatlinburg   \n",
       "10779                        Elk Springs Resort  Gatlinburg   \n",
       "10780                        Elk Springs Resort  Gatlinburg   \n",
       "10781                        Elk Springs Resort  Gatlinburg   \n",
       "10782                        Elk Springs Resort  Gatlinburg   \n",
       "\n",
       "               reviews.date   latitude  longitude  reviews.rating  \\\n",
       "0      2015-06-17T00:00:00Z  44.570590 -69.640120             4.0   \n",
       "1      2015-11-23T00:00:00Z  44.570590 -69.640120             5.0   \n",
       "2      2015-08-03T00:00:00Z  44.570590 -69.640120             3.0   \n",
       "3      2014-08-13T00:00:00Z  44.570590 -69.640120             4.0   \n",
       "4      2015-07-03T00:00:00Z  44.570590 -69.640120             5.0   \n",
       "...                     ...        ...        ...             ...   \n",
       "10778  2016-08-01T00:00:00Z  35.754868 -83.457295             1.0   \n",
       "10779  2016-07-15T00:00:00Z  35.754868 -83.457295             5.0   \n",
       "10780  2016-07-06T00:00:00Z  35.754868 -83.457295             5.0   \n",
       "10781  2016-05-02T00:00:00Z  35.754868 -83.457295             5.0   \n",
       "10782  2015-11-03T00:00:00Z  35.754868 -83.457295             5.0   \n",
       "\n",
       "                                            reviews.text  \n",
       "0      I asked for a nonsmoking room and was pleased ...  \n",
       "1      I always stay at this hotel when visiting my m...  \n",
       "2                  Adequate but nothing to recommend it.  \n",
       "3      Great service, comfortable hotel. Rug was wet ...  \n",
       "4      excellent place to stay and food was super...g...  \n",
       "...                                                  ...  \n",
       "10778  We are extremely disappointed in this company....  \n",
       "10779  Our family of 14 stayed in a 5 bedroom cabin, ...  \n",
       "10780  We truly enjoyed staying at the Elk Springs re...  \n",
       "10781  We were here for a 2nd time the last weekend o...  \n",
       "10782  My husband and I stayed at Tree Tops which is ...  \n",
       "\n",
       "[10783 rows x 7 columns]"
      ]
     },
     "execution_count": 188,
     "metadata": {},
     "output_type": "execute_result"
    }
   ],
   "source": [
    "df_reduced"
   ]
  },
  {
   "cell_type": "code",
   "execution_count": 189,
   "metadata": {},
   "outputs": [],
   "source": [
    "df_reduced['reviews.rating'] = df_reduced['reviews.rating'].round(0)"
   ]
  },
  {
   "cell_type": "code",
   "execution_count": 190,
   "metadata": {},
   "outputs": [],
   "source": [
    "df_reduced = df_reduced[df_reduced['reviews.rating'] <= 5]\n",
    "df_reduced = df_reduced[df_reduced['reviews.rating'] > 0]"
   ]
  },
  {
   "cell_type": "code",
   "execution_count": 191,
   "metadata": {},
   "outputs": [],
   "source": [
    "df_reduced.to_csv('hotels_subset.csv')"
   ]
  },
  {
   "cell_type": "code",
   "execution_count": 192,
   "metadata": {},
   "outputs": [
    {
     "data": {
      "text/plain": [
       "city\n",
       "Alexandria           1185\n",
       "Virginia Beach        787\n",
       "Newburgh              714\n",
       "San Antonio           701\n",
       "New York              535\n",
       "                     ... \n",
       "Monahans                1\n",
       "Vicksburg               1\n",
       "Fort Walton Beach       1\n",
       "Mount Sterling          1\n",
       "Big Spring              1\n",
       "Name: count, Length: 761, dtype: int64"
      ]
     },
     "execution_count": 192,
     "metadata": {},
     "output_type": "execute_result"
    }
   ],
   "source": [
    "df['city'].value_counts()"
   ]
  },
  {
   "cell_type": "code",
   "execution_count": 193,
   "metadata": {},
   "outputs": [],
   "source": [
    "df_reduced['reviews.date'] = pd.to_datetime(df_reduced['reviews.date'])"
   ]
  },
  {
   "cell_type": "code",
   "execution_count": 194,
   "metadata": {},
   "outputs": [],
   "source": [
    "df_reduced['month_year'] = df_reduced['reviews.date'].dt.strftime('%Y-%m-01')"
   ]
  },
  {
   "cell_type": "code",
   "execution_count": null,
   "metadata": {},
   "outputs": [],
   "source": []
  },
  {
   "cell_type": "code",
   "execution_count": 195,
   "metadata": {},
   "outputs": [],
   "source": [
    "import plotly.express as px"
   ]
  },
  {
   "cell_type": "code",
   "execution_count": 196,
   "metadata": {},
   "outputs": [
    {
     "data": {
      "application/vnd.plotly.v1+json": {
       "config": {
        "plotlyServerURL": "https://plot.ly"
       },
       "data": [
        {
         "hovertemplate": "variable=reviews.rating<br>month_year=%{x}<br>value=%{y}<extra></extra>",
         "legendgroup": "reviews.rating",
         "line": {
          "color": "#636efa",
          "dash": "solid"
         },
         "marker": {
          "symbol": "circle"
         },
         "mode": "lines",
         "name": "reviews.rating",
         "orientation": "v",
         "showlegend": true,
         "type": "scatter",
         "x": [
          "2014-01-01",
          "2014-02-01",
          "2014-03-01",
          "2014-04-01",
          "2014-05-01",
          "2014-06-01",
          "2014-07-01",
          "2014-08-01",
          "2014-09-01",
          "2014-10-01",
          "2014-11-01",
          "2014-12-01",
          "2015-01-01",
          "2015-02-01",
          "2015-03-01",
          "2015-04-01",
          "2015-05-01",
          "2015-06-01",
          "2015-07-01",
          "2015-08-01",
          "2015-09-01",
          "2015-10-01",
          "2015-11-01",
          "2015-12-01",
          "2016-01-01",
          "2016-02-01",
          "2016-03-01",
          "2016-04-01",
          "2016-05-01",
          "2016-06-01",
          "2016-07-01",
          "2016-08-01",
          "2016-09-01",
          "2016-10-01"
         ],
         "xaxis": "x",
         "y": [
          60,
          39,
          63,
          71,
          50,
          49,
          66,
          88,
          68,
          69,
          88,
          55,
          111,
          67,
          95,
          81,
          194,
          295,
          407,
          558,
          564,
          490,
          370,
          386,
          413,
          487,
          524,
          575,
          719,
          908,
          1160,
          679,
          423,
          365
         ],
         "yaxis": "y"
        }
       ],
       "layout": {
        "legend": {
         "title": {
          "text": "variable"
         },
         "tracegroupgap": 0
        },
        "margin": {
         "t": 60
        },
        "template": {
         "data": {
          "bar": [
           {
            "error_x": {
             "color": "#2a3f5f"
            },
            "error_y": {
             "color": "#2a3f5f"
            },
            "marker": {
             "line": {
              "color": "#E5ECF6",
              "width": 0.5
             },
             "pattern": {
              "fillmode": "overlay",
              "size": 10,
              "solidity": 0.2
             }
            },
            "type": "bar"
           }
          ],
          "barpolar": [
           {
            "marker": {
             "line": {
              "color": "#E5ECF6",
              "width": 0.5
             },
             "pattern": {
              "fillmode": "overlay",
              "size": 10,
              "solidity": 0.2
             }
            },
            "type": "barpolar"
           }
          ],
          "carpet": [
           {
            "aaxis": {
             "endlinecolor": "#2a3f5f",
             "gridcolor": "white",
             "linecolor": "white",
             "minorgridcolor": "white",
             "startlinecolor": "#2a3f5f"
            },
            "baxis": {
             "endlinecolor": "#2a3f5f",
             "gridcolor": "white",
             "linecolor": "white",
             "minorgridcolor": "white",
             "startlinecolor": "#2a3f5f"
            },
            "type": "carpet"
           }
          ],
          "choropleth": [
           {
            "colorbar": {
             "outlinewidth": 0,
             "ticks": ""
            },
            "type": "choropleth"
           }
          ],
          "contour": [
           {
            "colorbar": {
             "outlinewidth": 0,
             "ticks": ""
            },
            "colorscale": [
             [
              0,
              "#0d0887"
             ],
             [
              0.1111111111111111,
              "#46039f"
             ],
             [
              0.2222222222222222,
              "#7201a8"
             ],
             [
              0.3333333333333333,
              "#9c179e"
             ],
             [
              0.4444444444444444,
              "#bd3786"
             ],
             [
              0.5555555555555556,
              "#d8576b"
             ],
             [
              0.6666666666666666,
              "#ed7953"
             ],
             [
              0.7777777777777778,
              "#fb9f3a"
             ],
             [
              0.8888888888888888,
              "#fdca26"
             ],
             [
              1,
              "#f0f921"
             ]
            ],
            "type": "contour"
           }
          ],
          "contourcarpet": [
           {
            "colorbar": {
             "outlinewidth": 0,
             "ticks": ""
            },
            "type": "contourcarpet"
           }
          ],
          "heatmap": [
           {
            "colorbar": {
             "outlinewidth": 0,
             "ticks": ""
            },
            "colorscale": [
             [
              0,
              "#0d0887"
             ],
             [
              0.1111111111111111,
              "#46039f"
             ],
             [
              0.2222222222222222,
              "#7201a8"
             ],
             [
              0.3333333333333333,
              "#9c179e"
             ],
             [
              0.4444444444444444,
              "#bd3786"
             ],
             [
              0.5555555555555556,
              "#d8576b"
             ],
             [
              0.6666666666666666,
              "#ed7953"
             ],
             [
              0.7777777777777778,
              "#fb9f3a"
             ],
             [
              0.8888888888888888,
              "#fdca26"
             ],
             [
              1,
              "#f0f921"
             ]
            ],
            "type": "heatmap"
           }
          ],
          "heatmapgl": [
           {
            "colorbar": {
             "outlinewidth": 0,
             "ticks": ""
            },
            "colorscale": [
             [
              0,
              "#0d0887"
             ],
             [
              0.1111111111111111,
              "#46039f"
             ],
             [
              0.2222222222222222,
              "#7201a8"
             ],
             [
              0.3333333333333333,
              "#9c179e"
             ],
             [
              0.4444444444444444,
              "#bd3786"
             ],
             [
              0.5555555555555556,
              "#d8576b"
             ],
             [
              0.6666666666666666,
              "#ed7953"
             ],
             [
              0.7777777777777778,
              "#fb9f3a"
             ],
             [
              0.8888888888888888,
              "#fdca26"
             ],
             [
              1,
              "#f0f921"
             ]
            ],
            "type": "heatmapgl"
           }
          ],
          "histogram": [
           {
            "marker": {
             "pattern": {
              "fillmode": "overlay",
              "size": 10,
              "solidity": 0.2
             }
            },
            "type": "histogram"
           }
          ],
          "histogram2d": [
           {
            "colorbar": {
             "outlinewidth": 0,
             "ticks": ""
            },
            "colorscale": [
             [
              0,
              "#0d0887"
             ],
             [
              0.1111111111111111,
              "#46039f"
             ],
             [
              0.2222222222222222,
              "#7201a8"
             ],
             [
              0.3333333333333333,
              "#9c179e"
             ],
             [
              0.4444444444444444,
              "#bd3786"
             ],
             [
              0.5555555555555556,
              "#d8576b"
             ],
             [
              0.6666666666666666,
              "#ed7953"
             ],
             [
              0.7777777777777778,
              "#fb9f3a"
             ],
             [
              0.8888888888888888,
              "#fdca26"
             ],
             [
              1,
              "#f0f921"
             ]
            ],
            "type": "histogram2d"
           }
          ],
          "histogram2dcontour": [
           {
            "colorbar": {
             "outlinewidth": 0,
             "ticks": ""
            },
            "colorscale": [
             [
              0,
              "#0d0887"
             ],
             [
              0.1111111111111111,
              "#46039f"
             ],
             [
              0.2222222222222222,
              "#7201a8"
             ],
             [
              0.3333333333333333,
              "#9c179e"
             ],
             [
              0.4444444444444444,
              "#bd3786"
             ],
             [
              0.5555555555555556,
              "#d8576b"
             ],
             [
              0.6666666666666666,
              "#ed7953"
             ],
             [
              0.7777777777777778,
              "#fb9f3a"
             ],
             [
              0.8888888888888888,
              "#fdca26"
             ],
             [
              1,
              "#f0f921"
             ]
            ],
            "type": "histogram2dcontour"
           }
          ],
          "mesh3d": [
           {
            "colorbar": {
             "outlinewidth": 0,
             "ticks": ""
            },
            "type": "mesh3d"
           }
          ],
          "parcoords": [
           {
            "line": {
             "colorbar": {
              "outlinewidth": 0,
              "ticks": ""
             }
            },
            "type": "parcoords"
           }
          ],
          "pie": [
           {
            "automargin": true,
            "type": "pie"
           }
          ],
          "scatter": [
           {
            "fillpattern": {
             "fillmode": "overlay",
             "size": 10,
             "solidity": 0.2
            },
            "type": "scatter"
           }
          ],
          "scatter3d": [
           {
            "line": {
             "colorbar": {
              "outlinewidth": 0,
              "ticks": ""
             }
            },
            "marker": {
             "colorbar": {
              "outlinewidth": 0,
              "ticks": ""
             }
            },
            "type": "scatter3d"
           }
          ],
          "scattercarpet": [
           {
            "marker": {
             "colorbar": {
              "outlinewidth": 0,
              "ticks": ""
             }
            },
            "type": "scattercarpet"
           }
          ],
          "scattergeo": [
           {
            "marker": {
             "colorbar": {
              "outlinewidth": 0,
              "ticks": ""
             }
            },
            "type": "scattergeo"
           }
          ],
          "scattergl": [
           {
            "marker": {
             "colorbar": {
              "outlinewidth": 0,
              "ticks": ""
             }
            },
            "type": "scattergl"
           }
          ],
          "scattermapbox": [
           {
            "marker": {
             "colorbar": {
              "outlinewidth": 0,
              "ticks": ""
             }
            },
            "type": "scattermapbox"
           }
          ],
          "scatterpolar": [
           {
            "marker": {
             "colorbar": {
              "outlinewidth": 0,
              "ticks": ""
             }
            },
            "type": "scatterpolar"
           }
          ],
          "scatterpolargl": [
           {
            "marker": {
             "colorbar": {
              "outlinewidth": 0,
              "ticks": ""
             }
            },
            "type": "scatterpolargl"
           }
          ],
          "scatterternary": [
           {
            "marker": {
             "colorbar": {
              "outlinewidth": 0,
              "ticks": ""
             }
            },
            "type": "scatterternary"
           }
          ],
          "surface": [
           {
            "colorbar": {
             "outlinewidth": 0,
             "ticks": ""
            },
            "colorscale": [
             [
              0,
              "#0d0887"
             ],
             [
              0.1111111111111111,
              "#46039f"
             ],
             [
              0.2222222222222222,
              "#7201a8"
             ],
             [
              0.3333333333333333,
              "#9c179e"
             ],
             [
              0.4444444444444444,
              "#bd3786"
             ],
             [
              0.5555555555555556,
              "#d8576b"
             ],
             [
              0.6666666666666666,
              "#ed7953"
             ],
             [
              0.7777777777777778,
              "#fb9f3a"
             ],
             [
              0.8888888888888888,
              "#fdca26"
             ],
             [
              1,
              "#f0f921"
             ]
            ],
            "type": "surface"
           }
          ],
          "table": [
           {
            "cells": {
             "fill": {
              "color": "#EBF0F8"
             },
             "line": {
              "color": "white"
             }
            },
            "header": {
             "fill": {
              "color": "#C8D4E3"
             },
             "line": {
              "color": "white"
             }
            },
            "type": "table"
           }
          ]
         },
         "layout": {
          "annotationdefaults": {
           "arrowcolor": "#2a3f5f",
           "arrowhead": 0,
           "arrowwidth": 1
          },
          "autotypenumbers": "strict",
          "coloraxis": {
           "colorbar": {
            "outlinewidth": 0,
            "ticks": ""
           }
          },
          "colorscale": {
           "diverging": [
            [
             0,
             "#8e0152"
            ],
            [
             0.1,
             "#c51b7d"
            ],
            [
             0.2,
             "#de77ae"
            ],
            [
             0.3,
             "#f1b6da"
            ],
            [
             0.4,
             "#fde0ef"
            ],
            [
             0.5,
             "#f7f7f7"
            ],
            [
             0.6,
             "#e6f5d0"
            ],
            [
             0.7,
             "#b8e186"
            ],
            [
             0.8,
             "#7fbc41"
            ],
            [
             0.9,
             "#4d9221"
            ],
            [
             1,
             "#276419"
            ]
           ],
           "sequential": [
            [
             0,
             "#0d0887"
            ],
            [
             0.1111111111111111,
             "#46039f"
            ],
            [
             0.2222222222222222,
             "#7201a8"
            ],
            [
             0.3333333333333333,
             "#9c179e"
            ],
            [
             0.4444444444444444,
             "#bd3786"
            ],
            [
             0.5555555555555556,
             "#d8576b"
            ],
            [
             0.6666666666666666,
             "#ed7953"
            ],
            [
             0.7777777777777778,
             "#fb9f3a"
            ],
            [
             0.8888888888888888,
             "#fdca26"
            ],
            [
             1,
             "#f0f921"
            ]
           ],
           "sequentialminus": [
            [
             0,
             "#0d0887"
            ],
            [
             0.1111111111111111,
             "#46039f"
            ],
            [
             0.2222222222222222,
             "#7201a8"
            ],
            [
             0.3333333333333333,
             "#9c179e"
            ],
            [
             0.4444444444444444,
             "#bd3786"
            ],
            [
             0.5555555555555556,
             "#d8576b"
            ],
            [
             0.6666666666666666,
             "#ed7953"
            ],
            [
             0.7777777777777778,
             "#fb9f3a"
            ],
            [
             0.8888888888888888,
             "#fdca26"
            ],
            [
             1,
             "#f0f921"
            ]
           ]
          },
          "colorway": [
           "#636efa",
           "#EF553B",
           "#00cc96",
           "#ab63fa",
           "#FFA15A",
           "#19d3f3",
           "#FF6692",
           "#B6E880",
           "#FF97FF",
           "#FECB52"
          ],
          "font": {
           "color": "#2a3f5f"
          },
          "geo": {
           "bgcolor": "white",
           "lakecolor": "white",
           "landcolor": "#E5ECF6",
           "showlakes": true,
           "showland": true,
           "subunitcolor": "white"
          },
          "hoverlabel": {
           "align": "left"
          },
          "hovermode": "closest",
          "mapbox": {
           "style": "light"
          },
          "paper_bgcolor": "white",
          "plot_bgcolor": "#E5ECF6",
          "polar": {
           "angularaxis": {
            "gridcolor": "white",
            "linecolor": "white",
            "ticks": ""
           },
           "bgcolor": "#E5ECF6",
           "radialaxis": {
            "gridcolor": "white",
            "linecolor": "white",
            "ticks": ""
           }
          },
          "scene": {
           "xaxis": {
            "backgroundcolor": "#E5ECF6",
            "gridcolor": "white",
            "gridwidth": 2,
            "linecolor": "white",
            "showbackground": true,
            "ticks": "",
            "zerolinecolor": "white"
           },
           "yaxis": {
            "backgroundcolor": "#E5ECF6",
            "gridcolor": "white",
            "gridwidth": 2,
            "linecolor": "white",
            "showbackground": true,
            "ticks": "",
            "zerolinecolor": "white"
           },
           "zaxis": {
            "backgroundcolor": "#E5ECF6",
            "gridcolor": "white",
            "gridwidth": 2,
            "linecolor": "white",
            "showbackground": true,
            "ticks": "",
            "zerolinecolor": "white"
           }
          },
          "shapedefaults": {
           "line": {
            "color": "#2a3f5f"
           }
          },
          "ternary": {
           "aaxis": {
            "gridcolor": "white",
            "linecolor": "white",
            "ticks": ""
           },
           "baxis": {
            "gridcolor": "white",
            "linecolor": "white",
            "ticks": ""
           },
           "bgcolor": "#E5ECF6",
           "caxis": {
            "gridcolor": "white",
            "linecolor": "white",
            "ticks": ""
           }
          },
          "title": {
           "x": 0.05
          },
          "xaxis": {
           "automargin": true,
           "gridcolor": "white",
           "linecolor": "white",
           "ticks": "",
           "title": {
            "standoff": 15
           },
           "zerolinecolor": "white",
           "zerolinewidth": 2
          },
          "yaxis": {
           "automargin": true,
           "gridcolor": "white",
           "linecolor": "white",
           "ticks": "",
           "title": {
            "standoff": 15
           },
           "zerolinecolor": "white",
           "zerolinewidth": 2
          }
         }
        },
        "xaxis": {
         "anchor": "y",
         "domain": [
          0,
          1
         ],
         "title": {
          "text": "month_year"
         }
        },
        "yaxis": {
         "anchor": "x",
         "domain": [
          0,
          1
         ],
         "title": {
          "text": "value"
         }
        }
       }
      }
     },
     "metadata": {},
     "output_type": "display_data"
    }
   ],
   "source": [
    "px.line(df_reduced.groupby('month_year')['reviews.rating'].count())"
   ]
  },
  {
   "cell_type": "code",
   "execution_count": 197,
   "metadata": {},
   "outputs": [
    {
     "data": {
      "text/html": [
       "<div>\n",
       "<style scoped>\n",
       "    .dataframe tbody tr th:only-of-type {\n",
       "        vertical-align: middle;\n",
       "    }\n",
       "\n",
       "    .dataframe tbody tr th {\n",
       "        vertical-align: top;\n",
       "    }\n",
       "\n",
       "    .dataframe thead th {\n",
       "        text-align: right;\n",
       "    }\n",
       "</style>\n",
       "<table border=\"1\" class=\"dataframe\">\n",
       "  <thead>\n",
       "    <tr style=\"text-align: right;\">\n",
       "      <th></th>\n",
       "      <th>count</th>\n",
       "      <th>mean</th>\n",
       "    </tr>\n",
       "    <tr>\n",
       "      <th>month_year</th>\n",
       "      <th></th>\n",
       "      <th></th>\n",
       "    </tr>\n",
       "  </thead>\n",
       "  <tbody>\n",
       "    <tr>\n",
       "      <th>2014-01-01</th>\n",
       "      <td>60</td>\n",
       "      <td>3.583333</td>\n",
       "    </tr>\n",
       "    <tr>\n",
       "      <th>2014-02-01</th>\n",
       "      <td>39</td>\n",
       "      <td>3.230769</td>\n",
       "    </tr>\n",
       "    <tr>\n",
       "      <th>2014-03-01</th>\n",
       "      <td>63</td>\n",
       "      <td>3.507937</td>\n",
       "    </tr>\n",
       "    <tr>\n",
       "      <th>2014-04-01</th>\n",
       "      <td>71</td>\n",
       "      <td>3.309859</td>\n",
       "    </tr>\n",
       "    <tr>\n",
       "      <th>2014-05-01</th>\n",
       "      <td>50</td>\n",
       "      <td>3.180000</td>\n",
       "    </tr>\n",
       "    <tr>\n",
       "      <th>2014-06-01</th>\n",
       "      <td>49</td>\n",
       "      <td>3.244898</td>\n",
       "    </tr>\n",
       "    <tr>\n",
       "      <th>2014-07-01</th>\n",
       "      <td>66</td>\n",
       "      <td>3.227273</td>\n",
       "    </tr>\n",
       "    <tr>\n",
       "      <th>2014-08-01</th>\n",
       "      <td>88</td>\n",
       "      <td>3.181818</td>\n",
       "    </tr>\n",
       "    <tr>\n",
       "      <th>2014-09-01</th>\n",
       "      <td>68</td>\n",
       "      <td>3.750000</td>\n",
       "    </tr>\n",
       "    <tr>\n",
       "      <th>2014-10-01</th>\n",
       "      <td>69</td>\n",
       "      <td>3.855072</td>\n",
       "    </tr>\n",
       "    <tr>\n",
       "      <th>2014-11-01</th>\n",
       "      <td>88</td>\n",
       "      <td>3.715909</td>\n",
       "    </tr>\n",
       "    <tr>\n",
       "      <th>2014-12-01</th>\n",
       "      <td>55</td>\n",
       "      <td>3.509091</td>\n",
       "    </tr>\n",
       "    <tr>\n",
       "      <th>2015-01-01</th>\n",
       "      <td>111</td>\n",
       "      <td>3.630631</td>\n",
       "    </tr>\n",
       "    <tr>\n",
       "      <th>2015-02-01</th>\n",
       "      <td>67</td>\n",
       "      <td>3.626866</td>\n",
       "    </tr>\n",
       "    <tr>\n",
       "      <th>2015-03-01</th>\n",
       "      <td>95</td>\n",
       "      <td>3.610526</td>\n",
       "    </tr>\n",
       "    <tr>\n",
       "      <th>2015-04-01</th>\n",
       "      <td>81</td>\n",
       "      <td>3.567901</td>\n",
       "    </tr>\n",
       "    <tr>\n",
       "      <th>2015-05-01</th>\n",
       "      <td>194</td>\n",
       "      <td>3.747423</td>\n",
       "    </tr>\n",
       "    <tr>\n",
       "      <th>2015-06-01</th>\n",
       "      <td>295</td>\n",
       "      <td>3.844068</td>\n",
       "    </tr>\n",
       "    <tr>\n",
       "      <th>2015-07-01</th>\n",
       "      <td>407</td>\n",
       "      <td>3.771499</td>\n",
       "    </tr>\n",
       "    <tr>\n",
       "      <th>2015-08-01</th>\n",
       "      <td>558</td>\n",
       "      <td>3.847670</td>\n",
       "    </tr>\n",
       "    <tr>\n",
       "      <th>2015-09-01</th>\n",
       "      <td>564</td>\n",
       "      <td>3.934397</td>\n",
       "    </tr>\n",
       "    <tr>\n",
       "      <th>2015-10-01</th>\n",
       "      <td>490</td>\n",
       "      <td>3.810204</td>\n",
       "    </tr>\n",
       "    <tr>\n",
       "      <th>2015-11-01</th>\n",
       "      <td>370</td>\n",
       "      <td>3.967568</td>\n",
       "    </tr>\n",
       "    <tr>\n",
       "      <th>2015-12-01</th>\n",
       "      <td>386</td>\n",
       "      <td>4.000000</td>\n",
       "    </tr>\n",
       "    <tr>\n",
       "      <th>2016-01-01</th>\n",
       "      <td>413</td>\n",
       "      <td>4.002421</td>\n",
       "    </tr>\n",
       "    <tr>\n",
       "      <th>2016-02-01</th>\n",
       "      <td>487</td>\n",
       "      <td>3.987680</td>\n",
       "    </tr>\n",
       "    <tr>\n",
       "      <th>2016-03-01</th>\n",
       "      <td>524</td>\n",
       "      <td>3.797710</td>\n",
       "    </tr>\n",
       "    <tr>\n",
       "      <th>2016-04-01</th>\n",
       "      <td>575</td>\n",
       "      <td>3.700870</td>\n",
       "    </tr>\n",
       "    <tr>\n",
       "      <th>2016-05-01</th>\n",
       "      <td>719</td>\n",
       "      <td>3.703755</td>\n",
       "    </tr>\n",
       "    <tr>\n",
       "      <th>2016-06-01</th>\n",
       "      <td>908</td>\n",
       "      <td>3.623348</td>\n",
       "    </tr>\n",
       "    <tr>\n",
       "      <th>2016-07-01</th>\n",
       "      <td>1160</td>\n",
       "      <td>3.570690</td>\n",
       "    </tr>\n",
       "    <tr>\n",
       "      <th>2016-08-01</th>\n",
       "      <td>679</td>\n",
       "      <td>3.605302</td>\n",
       "    </tr>\n",
       "    <tr>\n",
       "      <th>2016-09-01</th>\n",
       "      <td>423</td>\n",
       "      <td>3.721040</td>\n",
       "    </tr>\n",
       "    <tr>\n",
       "      <th>2016-10-01</th>\n",
       "      <td>365</td>\n",
       "      <td>3.769863</td>\n",
       "    </tr>\n",
       "  </tbody>\n",
       "</table>\n",
       "</div>"
      ],
      "text/plain": [
       "            count      mean\n",
       "month_year                 \n",
       "2014-01-01     60  3.583333\n",
       "2014-02-01     39  3.230769\n",
       "2014-03-01     63  3.507937\n",
       "2014-04-01     71  3.309859\n",
       "2014-05-01     50  3.180000\n",
       "2014-06-01     49  3.244898\n",
       "2014-07-01     66  3.227273\n",
       "2014-08-01     88  3.181818\n",
       "2014-09-01     68  3.750000\n",
       "2014-10-01     69  3.855072\n",
       "2014-11-01     88  3.715909\n",
       "2014-12-01     55  3.509091\n",
       "2015-01-01    111  3.630631\n",
       "2015-02-01     67  3.626866\n",
       "2015-03-01     95  3.610526\n",
       "2015-04-01     81  3.567901\n",
       "2015-05-01    194  3.747423\n",
       "2015-06-01    295  3.844068\n",
       "2015-07-01    407  3.771499\n",
       "2015-08-01    558  3.847670\n",
       "2015-09-01    564  3.934397\n",
       "2015-10-01    490  3.810204\n",
       "2015-11-01    370  3.967568\n",
       "2015-12-01    386  4.000000\n",
       "2016-01-01    413  4.002421\n",
       "2016-02-01    487  3.987680\n",
       "2016-03-01    524  3.797710\n",
       "2016-04-01    575  3.700870\n",
       "2016-05-01    719  3.703755\n",
       "2016-06-01    908  3.623348\n",
       "2016-07-01   1160  3.570690\n",
       "2016-08-01    679  3.605302\n",
       "2016-09-01    423  3.721040\n",
       "2016-10-01    365  3.769863"
      ]
     },
     "execution_count": 197,
     "metadata": {},
     "output_type": "execute_result"
    }
   ],
   "source": [
    "df_reduced.groupby('month_year')['reviews.rating'].agg(['count', 'mean'])"
   ]
  },
  {
   "cell_type": "code",
   "execution_count": 202,
   "metadata": {},
   "outputs": [
    {
     "data": {
      "text/html": [
       "<div>\n",
       "<style scoped>\n",
       "    .dataframe tbody tr th:only-of-type {\n",
       "        vertical-align: middle;\n",
       "    }\n",
       "\n",
       "    .dataframe tbody tr th {\n",
       "        vertical-align: top;\n",
       "    }\n",
       "\n",
       "    .dataframe thead th {\n",
       "        text-align: right;\n",
       "    }\n",
       "</style>\n",
       "<table border=\"1\" class=\"dataframe\">\n",
       "  <thead>\n",
       "    <tr style=\"text-align: right;\">\n",
       "      <th></th>\n",
       "      <th>month_year</th>\n",
       "      <th>reviews.rating</th>\n",
       "    </tr>\n",
       "  </thead>\n",
       "  <tbody>\n",
       "    <tr>\n",
       "      <th>0</th>\n",
       "      <td>2014-01-01</td>\n",
       "      <td>3.58</td>\n",
       "    </tr>\n",
       "    <tr>\n",
       "      <th>1</th>\n",
       "      <td>2014-02-01</td>\n",
       "      <td>3.23</td>\n",
       "    </tr>\n",
       "    <tr>\n",
       "      <th>2</th>\n",
       "      <td>2014-03-01</td>\n",
       "      <td>3.51</td>\n",
       "    </tr>\n",
       "    <tr>\n",
       "      <th>3</th>\n",
       "      <td>2014-04-01</td>\n",
       "      <td>3.31</td>\n",
       "    </tr>\n",
       "    <tr>\n",
       "      <th>4</th>\n",
       "      <td>2014-05-01</td>\n",
       "      <td>3.18</td>\n",
       "    </tr>\n",
       "    <tr>\n",
       "      <th>5</th>\n",
       "      <td>2014-06-01</td>\n",
       "      <td>3.24</td>\n",
       "    </tr>\n",
       "    <tr>\n",
       "      <th>6</th>\n",
       "      <td>2014-07-01</td>\n",
       "      <td>3.23</td>\n",
       "    </tr>\n",
       "    <tr>\n",
       "      <th>7</th>\n",
       "      <td>2014-08-01</td>\n",
       "      <td>3.18</td>\n",
       "    </tr>\n",
       "    <tr>\n",
       "      <th>8</th>\n",
       "      <td>2014-09-01</td>\n",
       "      <td>3.75</td>\n",
       "    </tr>\n",
       "    <tr>\n",
       "      <th>9</th>\n",
       "      <td>2014-10-01</td>\n",
       "      <td>3.86</td>\n",
       "    </tr>\n",
       "    <tr>\n",
       "      <th>10</th>\n",
       "      <td>2014-11-01</td>\n",
       "      <td>3.72</td>\n",
       "    </tr>\n",
       "    <tr>\n",
       "      <th>11</th>\n",
       "      <td>2014-12-01</td>\n",
       "      <td>3.51</td>\n",
       "    </tr>\n",
       "    <tr>\n",
       "      <th>12</th>\n",
       "      <td>2015-01-01</td>\n",
       "      <td>3.63</td>\n",
       "    </tr>\n",
       "    <tr>\n",
       "      <th>13</th>\n",
       "      <td>2015-02-01</td>\n",
       "      <td>3.63</td>\n",
       "    </tr>\n",
       "    <tr>\n",
       "      <th>14</th>\n",
       "      <td>2015-03-01</td>\n",
       "      <td>3.61</td>\n",
       "    </tr>\n",
       "    <tr>\n",
       "      <th>15</th>\n",
       "      <td>2015-04-01</td>\n",
       "      <td>3.57</td>\n",
       "    </tr>\n",
       "    <tr>\n",
       "      <th>16</th>\n",
       "      <td>2015-05-01</td>\n",
       "      <td>3.75</td>\n",
       "    </tr>\n",
       "    <tr>\n",
       "      <th>17</th>\n",
       "      <td>2015-06-01</td>\n",
       "      <td>3.84</td>\n",
       "    </tr>\n",
       "    <tr>\n",
       "      <th>18</th>\n",
       "      <td>2015-07-01</td>\n",
       "      <td>3.77</td>\n",
       "    </tr>\n",
       "    <tr>\n",
       "      <th>19</th>\n",
       "      <td>2015-08-01</td>\n",
       "      <td>3.85</td>\n",
       "    </tr>\n",
       "    <tr>\n",
       "      <th>20</th>\n",
       "      <td>2015-09-01</td>\n",
       "      <td>3.93</td>\n",
       "    </tr>\n",
       "    <tr>\n",
       "      <th>21</th>\n",
       "      <td>2015-10-01</td>\n",
       "      <td>3.81</td>\n",
       "    </tr>\n",
       "    <tr>\n",
       "      <th>22</th>\n",
       "      <td>2015-11-01</td>\n",
       "      <td>3.97</td>\n",
       "    </tr>\n",
       "    <tr>\n",
       "      <th>23</th>\n",
       "      <td>2015-12-01</td>\n",
       "      <td>4.00</td>\n",
       "    </tr>\n",
       "    <tr>\n",
       "      <th>24</th>\n",
       "      <td>2016-01-01</td>\n",
       "      <td>4.00</td>\n",
       "    </tr>\n",
       "    <tr>\n",
       "      <th>25</th>\n",
       "      <td>2016-02-01</td>\n",
       "      <td>3.99</td>\n",
       "    </tr>\n",
       "    <tr>\n",
       "      <th>26</th>\n",
       "      <td>2016-03-01</td>\n",
       "      <td>3.80</td>\n",
       "    </tr>\n",
       "    <tr>\n",
       "      <th>27</th>\n",
       "      <td>2016-04-01</td>\n",
       "      <td>3.70</td>\n",
       "    </tr>\n",
       "    <tr>\n",
       "      <th>28</th>\n",
       "      <td>2016-05-01</td>\n",
       "      <td>3.70</td>\n",
       "    </tr>\n",
       "    <tr>\n",
       "      <th>29</th>\n",
       "      <td>2016-06-01</td>\n",
       "      <td>3.62</td>\n",
       "    </tr>\n",
       "    <tr>\n",
       "      <th>30</th>\n",
       "      <td>2016-07-01</td>\n",
       "      <td>3.57</td>\n",
       "    </tr>\n",
       "    <tr>\n",
       "      <th>31</th>\n",
       "      <td>2016-08-01</td>\n",
       "      <td>3.61</td>\n",
       "    </tr>\n",
       "    <tr>\n",
       "      <th>32</th>\n",
       "      <td>2016-09-01</td>\n",
       "      <td>3.72</td>\n",
       "    </tr>\n",
       "    <tr>\n",
       "      <th>33</th>\n",
       "      <td>2016-10-01</td>\n",
       "      <td>3.77</td>\n",
       "    </tr>\n",
       "  </tbody>\n",
       "</table>\n",
       "</div>"
      ],
      "text/plain": [
       "    month_year  reviews.rating\n",
       "0   2014-01-01            3.58\n",
       "1   2014-02-01            3.23\n",
       "2   2014-03-01            3.51\n",
       "3   2014-04-01            3.31\n",
       "4   2014-05-01            3.18\n",
       "5   2014-06-01            3.24\n",
       "6   2014-07-01            3.23\n",
       "7   2014-08-01            3.18\n",
       "8   2014-09-01            3.75\n",
       "9   2014-10-01            3.86\n",
       "10  2014-11-01            3.72\n",
       "11  2014-12-01            3.51\n",
       "12  2015-01-01            3.63\n",
       "13  2015-02-01            3.63\n",
       "14  2015-03-01            3.61\n",
       "15  2015-04-01            3.57\n",
       "16  2015-05-01            3.75\n",
       "17  2015-06-01            3.84\n",
       "18  2015-07-01            3.77\n",
       "19  2015-08-01            3.85\n",
       "20  2015-09-01            3.93\n",
       "21  2015-10-01            3.81\n",
       "22  2015-11-01            3.97\n",
       "23  2015-12-01            4.00\n",
       "24  2016-01-01            4.00\n",
       "25  2016-02-01            3.99\n",
       "26  2016-03-01            3.80\n",
       "27  2016-04-01            3.70\n",
       "28  2016-05-01            3.70\n",
       "29  2016-06-01            3.62\n",
       "30  2016-07-01            3.57\n",
       "31  2016-08-01            3.61\n",
       "32  2016-09-01            3.72\n",
       "33  2016-10-01            3.77"
      ]
     },
     "execution_count": 202,
     "metadata": {},
     "output_type": "execute_result"
    }
   ],
   "source": [
    "    reviews_monthly = pd.DataFrame(df_reduced.groupby('month_year')['reviews.rating'].mean().round(2)).reset_index()\n",
    "    reviews_monthly"
   ]
  },
  {
   "cell_type": "code",
   "execution_count": 3,
   "metadata": {},
   "outputs": [
    {
     "data": {
      "text/plain": [
       "categories\n",
       "Hotels                                                           21420\n",
       "Hotels,Hotel                                                      2977\n",
       "Hotel,Hotels                                                      1524\n",
       "Hotels,Hotels & Motels                                             423\n",
       "Hotels,Casinos                                                     392\n",
       "                                                                 ...  \n",
       "Resorts,Public Golf Courses,Hotels & Motels                          1\n",
       "Hotels,Lodging,Corporate Lodging,Motels                              1\n",
       "Restaurants,Hotels,Lodging,Resorts,Motels                            1\n",
       "Motels,Hotels,Lodging,Bed & Breakfast & Inns,Cabins & Chalets        1\n",
       "Bars & Clubs,Restaurants,Hotels & Motels,Grill Restaurants           1\n",
       "Name: count, Length: 396, dtype: int64"
      ]
     },
     "execution_count": 3,
     "metadata": {},
     "output_type": "execute_result"
    }
   ],
   "source": [
    "df['categories'].value_counts()"
   ]
  },
  {
   "cell_type": "code",
   "execution_count": 31,
   "metadata": {},
   "outputs": [
    {
     "data": {
      "text/html": [
       "<div>\n",
       "<style scoped>\n",
       "    .dataframe tbody tr th:only-of-type {\n",
       "        vertical-align: middle;\n",
       "    }\n",
       "\n",
       "    .dataframe tbody tr th {\n",
       "        vertical-align: top;\n",
       "    }\n",
       "\n",
       "    .dataframe thead th {\n",
       "        text-align: right;\n",
       "    }\n",
       "</style>\n",
       "<table border=\"1\" class=\"dataframe\">\n",
       "  <thead>\n",
       "    <tr style=\"text-align: right;\">\n",
       "      <th></th>\n",
       "      <th>city</th>\n",
       "      <th>reviews.date</th>\n",
       "      <th>latitude</th>\n",
       "      <th>longitude</th>\n",
       "      <th>reviews.rating</th>\n",
       "      <th>reviews.text</th>\n",
       "      <th>month_year</th>\n",
       "    </tr>\n",
       "  </thead>\n",
       "  <tbody>\n",
       "    <tr>\n",
       "      <th>1</th>\n",
       "      <td>Mableton</td>\n",
       "      <td>2015-04-03 00:00:00+00:00</td>\n",
       "      <td>45.421611</td>\n",
       "      <td>12.376187</td>\n",
       "      <td>5.0</td>\n",
       "      <td>Really lovely hotel. Stayed on the very top fl...</td>\n",
       "      <td>2015-04-01</td>\n",
       "    </tr>\n",
       "    <tr>\n",
       "      <th>2</th>\n",
       "      <td>Mableton</td>\n",
       "      <td>2014-05-13 00:00:00+00:00</td>\n",
       "      <td>45.421611</td>\n",
       "      <td>12.376187</td>\n",
       "      <td>5.0</td>\n",
       "      <td>Ett mycket bra hotell. Det som drog ner betyge...</td>\n",
       "      <td>2014-05-01</td>\n",
       "    </tr>\n",
       "    <tr>\n",
       "      <th>4</th>\n",
       "      <td>Mableton</td>\n",
       "      <td>2015-03-05 00:00:00+00:00</td>\n",
       "      <td>45.421611</td>\n",
       "      <td>12.376187</td>\n",
       "      <td>5.0</td>\n",
       "      <td>We stayed here for four nights in October. The...</td>\n",
       "      <td>2015-03-01</td>\n",
       "    </tr>\n",
       "    <tr>\n",
       "      <th>5</th>\n",
       "      <td>Mableton</td>\n",
       "      <td>2015-04-05 00:00:00+00:00</td>\n",
       "      <td>45.421611</td>\n",
       "      <td>12.376187</td>\n",
       "      <td>5.0</td>\n",
       "      <td>We loved staying on the island of Lido! You ne...</td>\n",
       "      <td>2015-04-01</td>\n",
       "    </tr>\n",
       "    <tr>\n",
       "      <th>6</th>\n",
       "      <td>Mableton</td>\n",
       "      <td>2014-06-10 00:00:00+00:00</td>\n",
       "      <td>45.421611</td>\n",
       "      <td>12.376187</td>\n",
       "      <td>4.0</td>\n",
       "      <td>Lovely view out onto the lagoon. Excellent vie...</td>\n",
       "      <td>2014-06-01</td>\n",
       "    </tr>\n",
       "  </tbody>\n",
       "</table>\n",
       "</div>"
      ],
      "text/plain": [
       "       city              reviews.date   latitude  longitude  reviews.rating  \\\n",
       "1  Mableton 2015-04-03 00:00:00+00:00  45.421611  12.376187             5.0   \n",
       "2  Mableton 2014-05-13 00:00:00+00:00  45.421611  12.376187             5.0   \n",
       "4  Mableton 2015-03-05 00:00:00+00:00  45.421611  12.376187             5.0   \n",
       "5  Mableton 2015-04-05 00:00:00+00:00  45.421611  12.376187             5.0   \n",
       "6  Mableton 2014-06-10 00:00:00+00:00  45.421611  12.376187             4.0   \n",
       "\n",
       "                                        reviews.text  month_year  \n",
       "1  Really lovely hotel. Stayed on the very top fl...  2015-04-01  \n",
       "2  Ett mycket bra hotell. Det som drog ner betyge...  2014-05-01  \n",
       "4  We stayed here for four nights in October. The...  2015-03-01  \n",
       "5  We loved staying on the island of Lido! You ne...  2015-04-01  \n",
       "6  Lovely view out onto the lagoon. Excellent vie...  2014-06-01  "
      ]
     },
     "execution_count": 31,
     "metadata": {},
     "output_type": "execute_result"
    }
   ],
   "source": [
    "df_reduced.head()"
   ]
  },
  {
   "cell_type": "code",
   "execution_count": 32,
   "metadata": {},
   "outputs": [],
   "source": [
    "import geopandas\n",
    "\n",
    "gdf_hotels = geopandas.GeoDataFrame(\n",
    "    df_reduced, # Our pandas dataframe\n",
    "    geometry = geopandas.points_from_xy(\n",
    "        df_reduced['longitude'], # Our 'x' column (horizontal position of points)\n",
    "        df_reduced['latitude'] # Our 'y' column (vertical position of points)\n",
    "        ),\n",
    "    crs = 'EPSG:4326' # the coordinate reference system of the data - use EPSG:4326 if you are unsure\n",
    "    )"
   ]
  },
  {
   "cell_type": "code",
   "execution_count": null,
   "metadata": {},
   "outputs": [],
   "source": [
    "len(gdf_hotels)"
   ]
  },
  {
   "cell_type": "code",
   "execution_count": null,
   "metadata": {},
   "outputs": [],
   "source": [
    "import contextily as cx\n"
   ]
  },
  {
   "cell_type": "code",
   "execution_count": 38,
   "metadata": {},
   "outputs": [
    {
     "data": {
      "image/png": "[encoded data removed]",
      "text/plain": [
       "<Figure size 1500x1000 with 1 Axes>"
      ]
     },
     "metadata": {},
     "output_type": "display_data"
    }
   ],
   "source": [
    "ax = gdf_hotels.plot(figsize=(15,10))\n",
    "\n",
    "cx.add_basemap(\n",
    "    ax, # the figure we created using our plot method\n",
    "    crs=gdf_hotels.crs.to_string(), # we can pull the CRS out of the geodataframe!\n",
    "    zoom=3 # zoom level\n",
    "    )"
   ]
  },
  {
   "cell_type": "code",
   "execution_count": 44,
   "metadata": {},
   "outputs": [
    {
     "data": {
      "text/html": [
       "<div>\n",
       "<style scoped>\n",
       "    .dataframe tbody tr th:only-of-type {\n",
       "        vertical-align: middle;\n",
       "    }\n",
       "\n",
       "    .dataframe tbody tr th {\n",
       "        vertical-align: top;\n",
       "    }\n",
       "\n",
       "    .dataframe thead th {\n",
       "        text-align: right;\n",
       "    }\n",
       "</style>\n",
       "<table border=\"1\" class=\"dataframe\">\n",
       "  <thead>\n",
       "    <tr style=\"text-align: right;\">\n",
       "      <th></th>\n",
       "      <th>reviews.rating</th>\n",
       "    </tr>\n",
       "    <tr>\n",
       "      <th>geometry</th>\n",
       "      <th></th>\n",
       "    </tr>\n",
       "  </thead>\n",
       "  <tbody>\n",
       "    <tr>\n",
       "      <th>POINT EMPTY</th>\n",
       "      <td>4.555556</td>\n",
       "    </tr>\n",
       "    <tr>\n",
       "      <th>POINT (-49.28146 -25.43675)</th>\n",
       "      <td>4.150943</td>\n",
       "    </tr>\n",
       "    <tr>\n",
       "      <th>POINT (-69.91005 18.45757)</th>\n",
       "      <td>4.235294</td>\n",
       "    </tr>\n",
       "    <tr>\n",
       "      <th>POINT (-88.0379 15.49901)</th>\n",
       "      <td>4.325000</td>\n",
       "    </tr>\n",
       "    <tr>\n",
       "      <th>POINT (-99.82723 16.79203)</th>\n",
       "      <td>4.127273</td>\n",
       "    </tr>\n",
       "    <tr>\n",
       "      <th>...</th>\n",
       "      <td>...</td>\n",
       "    </tr>\n",
       "    <tr>\n",
       "      <th>POINT (85.35596 27.7216)</th>\n",
       "      <td>8.355357</td>\n",
       "    </tr>\n",
       "    <tr>\n",
       "      <th>POINT (100.06518 9.48639)</th>\n",
       "      <td>3.789474</td>\n",
       "    </tr>\n",
       "    <tr>\n",
       "      <th>POINT (100.98721 13.36845)</th>\n",
       "      <td>3.000000</td>\n",
       "    </tr>\n",
       "    <tr>\n",
       "      <th>POINT (106.82367 -6.19542)</th>\n",
       "      <td>4.666667</td>\n",
       "    </tr>\n",
       "    <tr>\n",
       "      <th>POINT (115.16441 -8.70006)</th>\n",
       "      <td>3.309091</td>\n",
       "    </tr>\n",
       "  </tbody>\n",
       "</table>\n",
       "<p>609 rows × 1 columns</p>\n",
       "</div>"
      ],
      "text/plain": [
       "                             reviews.rating\n",
       "geometry                                   \n",
       "POINT EMPTY                        4.555556\n",
       "POINT (-49.28146 -25.43675)        4.150943\n",
       "POINT (-69.91005 18.45757)         4.235294\n",
       "POINT (-88.0379 15.49901)          4.325000\n",
       "POINT (-99.82723 16.79203)         4.127273\n",
       "...                                     ...\n",
       "POINT (85.35596 27.7216)           8.355357\n",
       "POINT (100.06518 9.48639)          3.789474\n",
       "POINT (100.98721 13.36845)         3.000000\n",
       "POINT (106.82367 -6.19542)         4.666667\n",
       "POINT (115.16441 -8.70006)         3.309091\n",
       "\n",
       "[609 rows x 1 columns]"
      ]
     },
     "execution_count": 44,
     "metadata": {},
     "output_type": "execute_result"
    }
   ],
   "source": []
  },
  {
   "cell_type": "code",
   "execution_count": 75,
   "metadata": {},
   "outputs": [
    {
     "data": {
      "text/html": [
       "<div>\n",
       "<style scoped>\n",
       "    .dataframe tbody tr th:only-of-type {\n",
       "        vertical-align: middle;\n",
       "    }\n",
       "\n",
       "    .dataframe tbody tr th {\n",
       "        vertical-align: top;\n",
       "    }\n",
       "\n",
       "    .dataframe thead th {\n",
       "        text-align: right;\n",
       "    }\n",
       "</style>\n",
       "<table border=\"1\" class=\"dataframe\">\n",
       "  <thead>\n",
       "    <tr style=\"text-align: right;\">\n",
       "      <th></th>\n",
       "      <th>latitude</th>\n",
       "      <th>longitude</th>\n",
       "      <th>mean</th>\n",
       "      <th>count</th>\n",
       "    </tr>\n",
       "  </thead>\n",
       "  <tbody>\n",
       "    <tr>\n",
       "      <th>0</th>\n",
       "      <td>-25.436750</td>\n",
       "      <td>-49.281460</td>\n",
       "      <td>4.150943</td>\n",
       "      <td>53</td>\n",
       "    </tr>\n",
       "    <tr>\n",
       "      <th>1</th>\n",
       "      <td>-8.700062</td>\n",
       "      <td>115.164407</td>\n",
       "      <td>3.309091</td>\n",
       "      <td>55</td>\n",
       "    </tr>\n",
       "    <tr>\n",
       "      <th>2</th>\n",
       "      <td>-6.195424</td>\n",
       "      <td>106.823673</td>\n",
       "      <td>4.666667</td>\n",
       "      <td>51</td>\n",
       "    </tr>\n",
       "    <tr>\n",
       "      <th>3</th>\n",
       "      <td>9.486392</td>\n",
       "      <td>100.065182</td>\n",
       "      <td>3.789474</td>\n",
       "      <td>19</td>\n",
       "    </tr>\n",
       "    <tr>\n",
       "      <th>5</th>\n",
       "      <td>15.499006</td>\n",
       "      <td>-88.037895</td>\n",
       "      <td>4.325000</td>\n",
       "      <td>40</td>\n",
       "    </tr>\n",
       "    <tr>\n",
       "      <th>...</th>\n",
       "      <td>...</td>\n",
       "      <td>...</td>\n",
       "      <td>...</td>\n",
       "      <td>...</td>\n",
       "    </tr>\n",
       "    <tr>\n",
       "      <th>601</th>\n",
       "      <td>51.295746</td>\n",
       "      <td>6.557915</td>\n",
       "      <td>3.875000</td>\n",
       "      <td>48</td>\n",
       "    </tr>\n",
       "    <tr>\n",
       "      <th>603</th>\n",
       "      <td>53.566245</td>\n",
       "      <td>9.988144</td>\n",
       "      <td>3.918919</td>\n",
       "      <td>37</td>\n",
       "    </tr>\n",
       "    <tr>\n",
       "      <th>605</th>\n",
       "      <td>54.153300</td>\n",
       "      <td>11.754320</td>\n",
       "      <td>4.039216</td>\n",
       "      <td>51</td>\n",
       "    </tr>\n",
       "    <tr>\n",
       "      <th>606</th>\n",
       "      <td>58.299629</td>\n",
       "      <td>-134.405992</td>\n",
       "      <td>4.684211</td>\n",
       "      <td>19</td>\n",
       "    </tr>\n",
       "    <tr>\n",
       "      <th>607</th>\n",
       "      <td>63.877674</td>\n",
       "      <td>-149.007260</td>\n",
       "      <td>4.700000</td>\n",
       "      <td>20</td>\n",
       "    </tr>\n",
       "  </tbody>\n",
       "</table>\n",
       "<p>466 rows × 4 columns</p>\n",
       "</div>"
      ],
      "text/plain": [
       "      latitude   longitude      mean  count\n",
       "0   -25.436750  -49.281460  4.150943     53\n",
       "1    -8.700062  115.164407  3.309091     55\n",
       "2    -6.195424  106.823673  4.666667     51\n",
       "3     9.486392  100.065182  3.789474     19\n",
       "5    15.499006  -88.037895  4.325000     40\n",
       "..         ...         ...       ...    ...\n",
       "601  51.295746    6.557915  3.875000     48\n",
       "603  53.566245    9.988144  3.918919     37\n",
       "605  54.153300   11.754320  4.039216     51\n",
       "606  58.299629 -134.405992  4.684211     19\n",
       "607  63.877674 -149.007260  4.700000     20\n",
       "\n",
       "[466 rows x 4 columns]"
      ]
     },
     "execution_count": 75,
     "metadata": {},
     "output_type": "execute_result"
    }
   ],
   "source": [
    "review_summaries = df_reduced.groupby(['latitude', 'longitude'])[['reviews.rating']].agg(['mean', 'count']).droplevel(0, axis=1).reset_index()\n",
    "review_summaries = review_summaries[review_summaries['count']>10]\n",
    "review_summaries"
   ]
  },
  {
   "cell_type": "code",
   "execution_count": 76,
   "metadata": {},
   "outputs": [],
   "source": [
    "review_summary_gdf = geopandas.GeoDataFrame(\n",
    "    review_summaries, # Our pandas dataframe\n",
    "    geometry = geopandas.points_from_xy(\n",
    "        review_summaries['longitude'], # Our 'x' column (horizontal position of points)\n",
    "        review_summaries['latitude'] # Our 'y' column (vertical position of points)\n",
    "        ),\n",
    "    crs = 'EPSG:4326' # the coordinate reference system of the data - use EPSG:4326 if you are unsure\n",
    "    )"
   ]
  },
  {
   "cell_type": "code",
   "execution_count": 78,
   "metadata": {},
   "outputs": [
    {
     "data": {
      "image/png": "[encoded data removed]",
      "text/plain": [
       "<Figure size 1500x1000 with 2 Axes>"
      ]
     },
     "metadata": {},
     "output_type": "display_data"
    }
   ],
   "source": [
    "ax = review_summary_gdf.plot(\"mean\", figsize=(15,10), legend=True)\n",
    "\n",
    "cx.add_basemap(\n",
    "    ax, # the figure we created using our plot method\n",
    "    crs=review_summary_gdf.crs.to_string(), # we can pull the CRS out of the geodataframe!\n",
    "    zoom=3 # zoom level\n",
    "    )"
   ]
  },
  {
   "cell_type": "code",
   "execution_count": 148,
   "metadata": {},
   "outputs": [],
   "source": [
    "df_reduced['reviews_stars'] = df_reduced[\"reviews.rating\"].case_when([\n",
    "    (df_reduced[\"reviews.rating\"] == 1, \"⭐\"),\n",
    "    (df_reduced[\"reviews.rating\"] == 2, \"⭐⭐\"),\n",
    "    (df_reduced[\"reviews.rating\"] == 3, \"⭐⭐⭐\"),\n",
    "    (df_reduced[\"reviews.rating\"] == 4, \"⭐⭐⭐⭐\"),\n",
    "    (df_reduced[\"reviews.rating\"] == 5, \"⭐⭐⭐⭐⭐\")\n",
    "])"
   ]
  },
  {
   "cell_type": "code",
   "execution_count": 149,
   "metadata": {},
   "outputs": [],
   "source": [
    "from textwrap import fill as wrap_text"
   ]
  },
  {
   "cell_type": "code",
   "execution_count": 151,
   "metadata": {},
   "outputs": [
    {
     "data": {
      "text/plain": [
       "0        Really lovely hotel. Stayed on the very top fl...\n",
       "1        Ett mycket bra hotell. Det som drog ner betyge...\n",
       "2        We stayed here for four nights in October. The...\n",
       "3        We loved staying on the island of Lido! You ne...\n",
       "4        Lovely view out onto the lagoon. Excellent vie...\n",
       "                               ...                        \n",
       "24402    We are extremely disappointed in this company....\n",
       "24403    Our family of 14 stayed in a 5 bedroom cabin, ...\n",
       "24404    We truly enjoyed staying at the Elk Springs re...\n",
       "24405    We were here for a 2nd time the last weekend o...\n",
       "24406    My husband and I stayed at Tree Tops which is ...\n",
       "Name: reviews.text, Length: 24407, dtype: object"
      ]
     },
     "execution_count": 151,
     "metadata": {},
     "output_type": "execute_result"
    }
   ],
   "source": [
    "df_reduced['reviews.text']"
   ]
  },
  {
   "cell_type": "code",
   "execution_count": 153,
   "metadata": {},
   "outputs": [
    {
     "ename": "AttributeError",
     "evalue": "'float' object has no attribute 'expandtabs'",
     "output_type": "error",
     "traceback": [
      "\u001b[1;31m---------------------------------------------------------------------------\u001b[0m",
      "\u001b[1;31mAttributeError\u001b[0m                            Traceback (most recent call last)",
      "Cell \u001b[1;32mIn[153], line 1\u001b[0m\n\u001b[1;32m----> 1\u001b[0m df_reduced[\u001b[38;5;124m'\u001b[39m\u001b[38;5;124mreviews.text\u001b[39m\u001b[38;5;124m'\u001b[39m] \u001b[38;5;241m=\u001b[39m \u001b[43mdf_reduced\u001b[49m\u001b[43m[\u001b[49m\u001b[38;5;124;43m'\u001b[39;49m\u001b[38;5;124;43mreviews.text\u001b[39;49m\u001b[38;5;124;43m'\u001b[39;49m\u001b[43m]\u001b[49m\u001b[38;5;241;43m.\u001b[39;49m\u001b[43mapply\u001b[49m\u001b[43m(\u001b[49m\u001b[38;5;28;43;01mlambda\u001b[39;49;00m\u001b[43m \u001b[49m\u001b[43mx\u001b[49m\u001b[43m:\u001b[49m\u001b[43m \u001b[49m\u001b[43mwrap_text\u001b[49m\u001b[43m(\u001b[49m\u001b[43mx\u001b[49m\u001b[43m,\u001b[49m\u001b[43m \u001b[49m\u001b[38;5;241;43m30\u001b[39;49m\u001b[43m)\u001b[49m\u001b[43m)\u001b[49m\n",
      "File \u001b[1;32mc:\\HSMA\\streamlit_book\\.venv\\Lib\\site-packages\\pandas\\core\\series.py:4924\u001b[0m, in \u001b[0;36mSeries.apply\u001b[1;34m(self, func, convert_dtype, args, by_row, **kwargs)\u001b[0m\n\u001b[0;32m   4789\u001b[0m \u001b[38;5;28;01mdef\u001b[39;00m \u001b[38;5;21mapply\u001b[39m(\n\u001b[0;32m   4790\u001b[0m     \u001b[38;5;28mself\u001b[39m,\n\u001b[0;32m   4791\u001b[0m     func: AggFuncType,\n\u001b[1;32m   (...)\u001b[0m\n\u001b[0;32m   4796\u001b[0m     \u001b[38;5;241m*\u001b[39m\u001b[38;5;241m*\u001b[39mkwargs,\n\u001b[0;32m   4797\u001b[0m ) \u001b[38;5;241m-\u001b[39m\u001b[38;5;241m>\u001b[39m DataFrame \u001b[38;5;241m|\u001b[39m Series:\n\u001b[0;32m   4798\u001b[0m \u001b[38;5;250m    \u001b[39m\u001b[38;5;124;03m\"\"\"\u001b[39;00m\n\u001b[0;32m   4799\u001b[0m \u001b[38;5;124;03m    Invoke function on values of Series.\u001b[39;00m\n\u001b[0;32m   4800\u001b[0m \n\u001b[1;32m   (...)\u001b[0m\n\u001b[0;32m   4915\u001b[0m \u001b[38;5;124;03m    dtype: float64\u001b[39;00m\n\u001b[0;32m   4916\u001b[0m \u001b[38;5;124;03m    \"\"\"\u001b[39;00m\n\u001b[0;32m   4917\u001b[0m     \u001b[38;5;28;01mreturn\u001b[39;00m \u001b[43mSeriesApply\u001b[49m\u001b[43m(\u001b[49m\n\u001b[0;32m   4918\u001b[0m \u001b[43m        \u001b[49m\u001b[38;5;28;43mself\u001b[39;49m\u001b[43m,\u001b[49m\n\u001b[0;32m   4919\u001b[0m \u001b[43m        \u001b[49m\u001b[43mfunc\u001b[49m\u001b[43m,\u001b[49m\n\u001b[0;32m   4920\u001b[0m \u001b[43m        \u001b[49m\u001b[43mconvert_dtype\u001b[49m\u001b[38;5;241;43m=\u001b[39;49m\u001b[43mconvert_dtype\u001b[49m\u001b[43m,\u001b[49m\n\u001b[0;32m   4921\u001b[0m \u001b[43m        \u001b[49m\u001b[43mby_row\u001b[49m\u001b[38;5;241;43m=\u001b[39;49m\u001b[43mby_row\u001b[49m\u001b[43m,\u001b[49m\n\u001b[0;32m   4922\u001b[0m \u001b[43m        \u001b[49m\u001b[43margs\u001b[49m\u001b[38;5;241;43m=\u001b[39;49m\u001b[43margs\u001b[49m\u001b[43m,\u001b[49m\n\u001b[0;32m   4923\u001b[0m \u001b[43m        \u001b[49m\u001b[43mkwargs\u001b[49m\u001b[38;5;241;43m=\u001b[39;49m\u001b[43mkwargs\u001b[49m\u001b[43m,\u001b[49m\n\u001b[1;32m-> 4924\u001b[0m \u001b[43m    \u001b[49m\u001b[43m)\u001b[49m\u001b[38;5;241;43m.\u001b[39;49m\u001b[43mapply\u001b[49m\u001b[43m(\u001b[49m\u001b[43m)\u001b[49m\n",
      "File \u001b[1;32mc:\\HSMA\\streamlit_book\\.venv\\Lib\\site-packages\\pandas\\core\\apply.py:1427\u001b[0m, in \u001b[0;36mSeriesApply.apply\u001b[1;34m(self)\u001b[0m\n\u001b[0;32m   1424\u001b[0m     \u001b[38;5;28;01mreturn\u001b[39;00m \u001b[38;5;28mself\u001b[39m\u001b[38;5;241m.\u001b[39mapply_compat()\n\u001b[0;32m   1426\u001b[0m \u001b[38;5;66;03m# self.func is Callable\u001b[39;00m\n\u001b[1;32m-> 1427\u001b[0m \u001b[38;5;28;01mreturn\u001b[39;00m \u001b[38;5;28;43mself\u001b[39;49m\u001b[38;5;241;43m.\u001b[39;49m\u001b[43mapply_standard\u001b[49m\u001b[43m(\u001b[49m\u001b[43m)\u001b[49m\n",
      "File \u001b[1;32mc:\\HSMA\\streamlit_book\\.venv\\Lib\\site-packages\\pandas\\core\\apply.py:1507\u001b[0m, in \u001b[0;36mSeriesApply.apply_standard\u001b[1;34m(self)\u001b[0m\n\u001b[0;32m   1501\u001b[0m \u001b[38;5;66;03m# row-wise access\u001b[39;00m\n\u001b[0;32m   1502\u001b[0m \u001b[38;5;66;03m# apply doesn't have a `na_action` keyword and for backward compat reasons\u001b[39;00m\n\u001b[0;32m   1503\u001b[0m \u001b[38;5;66;03m# we need to give `na_action=\"ignore\"` for categorical data.\u001b[39;00m\n\u001b[0;32m   1504\u001b[0m \u001b[38;5;66;03m# TODO: remove the `na_action=\"ignore\"` when that default has been changed in\u001b[39;00m\n\u001b[0;32m   1505\u001b[0m \u001b[38;5;66;03m#  Categorical (GH51645).\u001b[39;00m\n\u001b[0;32m   1506\u001b[0m action \u001b[38;5;241m=\u001b[39m \u001b[38;5;124m\"\u001b[39m\u001b[38;5;124mignore\u001b[39m\u001b[38;5;124m\"\u001b[39m \u001b[38;5;28;01mif\u001b[39;00m \u001b[38;5;28misinstance\u001b[39m(obj\u001b[38;5;241m.\u001b[39mdtype, CategoricalDtype) \u001b[38;5;28;01melse\u001b[39;00m \u001b[38;5;28;01mNone\u001b[39;00m\n\u001b[1;32m-> 1507\u001b[0m mapped \u001b[38;5;241m=\u001b[39m \u001b[43mobj\u001b[49m\u001b[38;5;241;43m.\u001b[39;49m\u001b[43m_map_values\u001b[49m\u001b[43m(\u001b[49m\n\u001b[0;32m   1508\u001b[0m \u001b[43m    \u001b[49m\u001b[43mmapper\u001b[49m\u001b[38;5;241;43m=\u001b[39;49m\u001b[43mcurried\u001b[49m\u001b[43m,\u001b[49m\u001b[43m \u001b[49m\u001b[43mna_action\u001b[49m\u001b[38;5;241;43m=\u001b[39;49m\u001b[43maction\u001b[49m\u001b[43m,\u001b[49m\u001b[43m \u001b[49m\u001b[43mconvert\u001b[49m\u001b[38;5;241;43m=\u001b[39;49m\u001b[38;5;28;43mself\u001b[39;49m\u001b[38;5;241;43m.\u001b[39;49m\u001b[43mconvert_dtype\u001b[49m\n\u001b[0;32m   1509\u001b[0m \u001b[43m\u001b[49m\u001b[43m)\u001b[49m\n\u001b[0;32m   1511\u001b[0m \u001b[38;5;28;01mif\u001b[39;00m \u001b[38;5;28mlen\u001b[39m(mapped) \u001b[38;5;129;01mand\u001b[39;00m \u001b[38;5;28misinstance\u001b[39m(mapped[\u001b[38;5;241m0\u001b[39m], ABCSeries):\n\u001b[0;32m   1512\u001b[0m     \u001b[38;5;66;03m# GH#43986 Need to do list(mapped) in order to get treated as nested\u001b[39;00m\n\u001b[0;32m   1513\u001b[0m     \u001b[38;5;66;03m#  See also GH#25959 regarding EA support\u001b[39;00m\n\u001b[0;32m   1514\u001b[0m     \u001b[38;5;28;01mreturn\u001b[39;00m obj\u001b[38;5;241m.\u001b[39m_constructor_expanddim(\u001b[38;5;28mlist\u001b[39m(mapped), index\u001b[38;5;241m=\u001b[39mobj\u001b[38;5;241m.\u001b[39mindex)\n",
      "File \u001b[1;32mc:\\HSMA\\streamlit_book\\.venv\\Lib\\site-packages\\pandas\\core\\base.py:921\u001b[0m, in \u001b[0;36mIndexOpsMixin._map_values\u001b[1;34m(self, mapper, na_action, convert)\u001b[0m\n\u001b[0;32m    918\u001b[0m \u001b[38;5;28;01mif\u001b[39;00m \u001b[38;5;28misinstance\u001b[39m(arr, ExtensionArray):\n\u001b[0;32m    919\u001b[0m     \u001b[38;5;28;01mreturn\u001b[39;00m arr\u001b[38;5;241m.\u001b[39mmap(mapper, na_action\u001b[38;5;241m=\u001b[39mna_action)\n\u001b[1;32m--> 921\u001b[0m \u001b[38;5;28;01mreturn\u001b[39;00m \u001b[43malgorithms\u001b[49m\u001b[38;5;241;43m.\u001b[39;49m\u001b[43mmap_array\u001b[49m\u001b[43m(\u001b[49m\u001b[43marr\u001b[49m\u001b[43m,\u001b[49m\u001b[43m \u001b[49m\u001b[43mmapper\u001b[49m\u001b[43m,\u001b[49m\u001b[43m \u001b[49m\u001b[43mna_action\u001b[49m\u001b[38;5;241;43m=\u001b[39;49m\u001b[43mna_action\u001b[49m\u001b[43m,\u001b[49m\u001b[43m \u001b[49m\u001b[43mconvert\u001b[49m\u001b[38;5;241;43m=\u001b[39;49m\u001b[43mconvert\u001b[49m\u001b[43m)\u001b[49m\n",
      "File \u001b[1;32mc:\\HSMA\\streamlit_book\\.venv\\Lib\\site-packages\\pandas\\core\\algorithms.py:1743\u001b[0m, in \u001b[0;36mmap_array\u001b[1;34m(arr, mapper, na_action, convert)\u001b[0m\n\u001b[0;32m   1741\u001b[0m values \u001b[38;5;241m=\u001b[39m arr\u001b[38;5;241m.\u001b[39mastype(\u001b[38;5;28mobject\u001b[39m, copy\u001b[38;5;241m=\u001b[39m\u001b[38;5;28;01mFalse\u001b[39;00m)\n\u001b[0;32m   1742\u001b[0m \u001b[38;5;28;01mif\u001b[39;00m na_action \u001b[38;5;129;01mis\u001b[39;00m \u001b[38;5;28;01mNone\u001b[39;00m:\n\u001b[1;32m-> 1743\u001b[0m     \u001b[38;5;28;01mreturn\u001b[39;00m \u001b[43mlib\u001b[49m\u001b[38;5;241;43m.\u001b[39;49m\u001b[43mmap_infer\u001b[49m\u001b[43m(\u001b[49m\u001b[43mvalues\u001b[49m\u001b[43m,\u001b[49m\u001b[43m \u001b[49m\u001b[43mmapper\u001b[49m\u001b[43m,\u001b[49m\u001b[43m \u001b[49m\u001b[43mconvert\u001b[49m\u001b[38;5;241;43m=\u001b[39;49m\u001b[43mconvert\u001b[49m\u001b[43m)\u001b[49m\n\u001b[0;32m   1744\u001b[0m \u001b[38;5;28;01melse\u001b[39;00m:\n\u001b[0;32m   1745\u001b[0m     \u001b[38;5;28;01mreturn\u001b[39;00m lib\u001b[38;5;241m.\u001b[39mmap_infer_mask(\n\u001b[0;32m   1746\u001b[0m         values, mapper, mask\u001b[38;5;241m=\u001b[39misna(values)\u001b[38;5;241m.\u001b[39mview(np\u001b[38;5;241m.\u001b[39muint8), convert\u001b[38;5;241m=\u001b[39mconvert\n\u001b[0;32m   1747\u001b[0m     )\n",
      "File \u001b[1;32mlib.pyx:2972\u001b[0m, in \u001b[0;36mpandas._libs.lib.map_infer\u001b[1;34m()\u001b[0m\n",
      "Cell \u001b[1;32mIn[153], line 1\u001b[0m, in \u001b[0;36m<lambda>\u001b[1;34m(x)\u001b[0m\n\u001b[1;32m----> 1\u001b[0m df_reduced[\u001b[38;5;124m'\u001b[39m\u001b[38;5;124mreviews.text\u001b[39m\u001b[38;5;124m'\u001b[39m] \u001b[38;5;241m=\u001b[39m df_reduced[\u001b[38;5;124m'\u001b[39m\u001b[38;5;124mreviews.text\u001b[39m\u001b[38;5;124m'\u001b[39m]\u001b[38;5;241m.\u001b[39mapply(\u001b[38;5;28;01mlambda\u001b[39;00m x: \u001b[43mwrap_text\u001b[49m\u001b[43m(\u001b[49m\u001b[43mx\u001b[49m\u001b[43m,\u001b[49m\u001b[43m \u001b[49m\u001b[38;5;241;43m30\u001b[39;49m\u001b[43m)\u001b[49m)\n",
      "File \u001b[1;32m~\\AppData\\Local\\Programs\\Python\\Python312\\Lib\\textwrap.py:396\u001b[0m, in \u001b[0;36mfill\u001b[1;34m(text, width, **kwargs)\u001b[0m\n\u001b[0;32m    387\u001b[0m \u001b[38;5;250m\u001b[39m\u001b[38;5;124;03m\"\"\"Fill a single paragraph of text, returning a new string.\u001b[39;00m\n\u001b[0;32m    388\u001b[0m \n\u001b[0;32m    389\u001b[0m \u001b[38;5;124;03mReformat the single paragraph in 'text' to fit in lines of no more\u001b[39;00m\n\u001b[1;32m   (...)\u001b[0m\n\u001b[0;32m    393\u001b[0m \u001b[38;5;124;03mavailable keyword args to customize wrapping behaviour.\u001b[39;00m\n\u001b[0;32m    394\u001b[0m \u001b[38;5;124;03m\"\"\"\u001b[39;00m\n\u001b[0;32m    395\u001b[0m w \u001b[38;5;241m=\u001b[39m TextWrapper(width\u001b[38;5;241m=\u001b[39mwidth, \u001b[38;5;241m*\u001b[39m\u001b[38;5;241m*\u001b[39mkwargs)\n\u001b[1;32m--> 396\u001b[0m \u001b[38;5;28;01mreturn\u001b[39;00m \u001b[43mw\u001b[49m\u001b[38;5;241;43m.\u001b[39;49m\u001b[43mfill\u001b[49m\u001b[43m(\u001b[49m\u001b[43mtext\u001b[49m\u001b[43m)\u001b[49m\n",
      "File \u001b[1;32m~\\AppData\\Local\\Programs\\Python\\Python312\\Lib\\textwrap.py:368\u001b[0m, in \u001b[0;36mTextWrapper.fill\u001b[1;34m(self, text)\u001b[0m\n\u001b[0;32m    361\u001b[0m \u001b[38;5;28;01mdef\u001b[39;00m \u001b[38;5;21mfill\u001b[39m(\u001b[38;5;28mself\u001b[39m, text):\n\u001b[0;32m    362\u001b[0m \u001b[38;5;250m    \u001b[39m\u001b[38;5;124;03m\"\"\"fill(text : string) -> string\u001b[39;00m\n\u001b[0;32m    363\u001b[0m \n\u001b[0;32m    364\u001b[0m \u001b[38;5;124;03m    Reformat the single paragraph in 'text' to fit in lines of no\u001b[39;00m\n\u001b[0;32m    365\u001b[0m \u001b[38;5;124;03m    more than 'self.width' columns, and return a new string\u001b[39;00m\n\u001b[0;32m    366\u001b[0m \u001b[38;5;124;03m    containing the entire wrapped paragraph.\u001b[39;00m\n\u001b[0;32m    367\u001b[0m \u001b[38;5;124;03m    \"\"\"\u001b[39;00m\n\u001b[1;32m--> 368\u001b[0m     \u001b[38;5;28;01mreturn\u001b[39;00m \u001b[38;5;124m\"\u001b[39m\u001b[38;5;130;01m\\n\u001b[39;00m\u001b[38;5;124m\"\u001b[39m\u001b[38;5;241m.\u001b[39mjoin(\u001b[38;5;28;43mself\u001b[39;49m\u001b[38;5;241;43m.\u001b[39;49m\u001b[43mwrap\u001b[49m\u001b[43m(\u001b[49m\u001b[43mtext\u001b[49m\u001b[43m)\u001b[49m)\n",
      "File \u001b[1;32m~\\AppData\\Local\\Programs\\Python\\Python312\\Lib\\textwrap.py:356\u001b[0m, in \u001b[0;36mTextWrapper.wrap\u001b[1;34m(self, text)\u001b[0m\n\u001b[0;32m    347\u001b[0m \u001b[38;5;28;01mdef\u001b[39;00m \u001b[38;5;21mwrap\u001b[39m(\u001b[38;5;28mself\u001b[39m, text):\n\u001b[0;32m    348\u001b[0m \u001b[38;5;250m    \u001b[39m\u001b[38;5;124;03m\"\"\"wrap(text : string) -> [string]\u001b[39;00m\n\u001b[0;32m    349\u001b[0m \n\u001b[0;32m    350\u001b[0m \u001b[38;5;124;03m    Reformat the single paragraph in 'text' so it fits in lines of\u001b[39;00m\n\u001b[1;32m   (...)\u001b[0m\n\u001b[0;32m    354\u001b[0m \u001b[38;5;124;03m    converted to space.\u001b[39;00m\n\u001b[0;32m    355\u001b[0m \u001b[38;5;124;03m    \"\"\"\u001b[39;00m\n\u001b[1;32m--> 356\u001b[0m     chunks \u001b[38;5;241m=\u001b[39m \u001b[38;5;28;43mself\u001b[39;49m\u001b[38;5;241;43m.\u001b[39;49m\u001b[43m_split_chunks\u001b[49m\u001b[43m(\u001b[49m\u001b[43mtext\u001b[49m\u001b[43m)\u001b[49m\n\u001b[0;32m    357\u001b[0m     \u001b[38;5;28;01mif\u001b[39;00m \u001b[38;5;28mself\u001b[39m\u001b[38;5;241m.\u001b[39mfix_sentence_endings:\n\u001b[0;32m    358\u001b[0m         \u001b[38;5;28mself\u001b[39m\u001b[38;5;241m.\u001b[39m_fix_sentence_endings(chunks)\n",
      "File \u001b[1;32m~\\AppData\\Local\\Programs\\Python\\Python312\\Lib\\textwrap.py:342\u001b[0m, in \u001b[0;36mTextWrapper._split_chunks\u001b[1;34m(self, text)\u001b[0m\n\u001b[0;32m    341\u001b[0m \u001b[38;5;28;01mdef\u001b[39;00m \u001b[38;5;21m_split_chunks\u001b[39m(\u001b[38;5;28mself\u001b[39m, text):\n\u001b[1;32m--> 342\u001b[0m     text \u001b[38;5;241m=\u001b[39m \u001b[38;5;28;43mself\u001b[39;49m\u001b[38;5;241;43m.\u001b[39;49m\u001b[43m_munge_whitespace\u001b[49m\u001b[43m(\u001b[49m\u001b[43mtext\u001b[49m\u001b[43m)\u001b[49m\n\u001b[0;32m    343\u001b[0m     \u001b[38;5;28;01mreturn\u001b[39;00m \u001b[38;5;28mself\u001b[39m\u001b[38;5;241m.\u001b[39m_split(text)\n",
      "File \u001b[1;32m~\\AppData\\Local\\Programs\\Python\\Python312\\Lib\\textwrap.py:151\u001b[0m, in \u001b[0;36mTextWrapper._munge_whitespace\u001b[1;34m(self, text)\u001b[0m\n\u001b[0;32m    144\u001b[0m \u001b[38;5;250m\u001b[39m\u001b[38;5;124;03m\"\"\"_munge_whitespace(text : string) -> string\u001b[39;00m\n\u001b[0;32m    145\u001b[0m \n\u001b[0;32m    146\u001b[0m \u001b[38;5;124;03mMunge whitespace in text: expand tabs and convert all other\u001b[39;00m\n\u001b[0;32m    147\u001b[0m \u001b[38;5;124;03mwhitespace characters to spaces.  Eg. \" foo\\\\tbar\\\\n\\\\nbaz\"\u001b[39;00m\n\u001b[0;32m    148\u001b[0m \u001b[38;5;124;03mbecomes \" foo    bar  baz\".\u001b[39;00m\n\u001b[0;32m    149\u001b[0m \u001b[38;5;124;03m\"\"\"\u001b[39;00m\n\u001b[0;32m    150\u001b[0m \u001b[38;5;28;01mif\u001b[39;00m \u001b[38;5;28mself\u001b[39m\u001b[38;5;241m.\u001b[39mexpand_tabs:\n\u001b[1;32m--> 151\u001b[0m     text \u001b[38;5;241m=\u001b[39m \u001b[43mtext\u001b[49m\u001b[38;5;241;43m.\u001b[39;49m\u001b[43mexpandtabs\u001b[49m(\u001b[38;5;28mself\u001b[39m\u001b[38;5;241m.\u001b[39mtabsize)\n\u001b[0;32m    152\u001b[0m \u001b[38;5;28;01mif\u001b[39;00m \u001b[38;5;28mself\u001b[39m\u001b[38;5;241m.\u001b[39mreplace_whitespace:\n\u001b[0;32m    153\u001b[0m     text \u001b[38;5;241m=\u001b[39m text\u001b[38;5;241m.\u001b[39mtranslate(\u001b[38;5;28mself\u001b[39m\u001b[38;5;241m.\u001b[39municode_whitespace_trans)\n",
      "\u001b[1;31mAttributeError\u001b[0m: 'float' object has no attribute 'expandtabs'"
     ]
    }
   ],
   "source": [
    "df_reduced['reviews.text'] = df_reduced['reviews.text'].apply(lambda x: wrap_text(x, 30))\n"
   ]
  }
 ],
 "metadata": {
  "kernelspec": {
   "display_name": ".venv",
   "language": "python",
   "name": "python3"
  },
  "language_info": {
   "codemirror_mode": {
    "name": "ipython",
    "version": 3
   },
   "file_extension": ".py",
   "mimetype": "text/x-python",
   "name": "python",
   "nbconvert_exporter": "python",
   "pygments_lexer": "ipython3",
   "version": "3.12.2"
  }
 },
 "nbformat": 4,
 "nbformat_minor": 2
}
